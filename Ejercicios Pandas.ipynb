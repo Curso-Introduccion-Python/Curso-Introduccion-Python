{
 "cells": [
  {
   "cell_type": "markdown",
   "metadata": {},
   "source": [
    "# Ejercicios de Pandas 🐼 (+NumPy)\n",
    "Ahora que hemos aprendido algunos conceptos basicos de la libreria Pandas, vamos a hacer unos cuantos ejercicios combinando NumPy y Pandas, para refrescar ideas y para comprobar que habeis entendido estos conceptos.\n",
    "### 1. Importa la librería Pandas asignandole el nombre *pd* y NumPy asignandole el nombre *np*\n",
    "🚨 Atencion: Te cuidado con las mayusculas, normalmente el nombre de las librerias está en minusculas. Como normal general, siempre utiliza minusculas."
   ]
  },
  {
   "cell_type": "code",
   "execution_count": null,
   "metadata": {},
   "outputs": [],
   "source": []
  },
  {
   "cell_type": "markdown",
   "metadata": {},
   "source": [
    "### 2. Con la funcion *zeros*  de NumPy Crea un array de ceros de 365 filas y 1 columna que se llame *temp*\n",
    "🚨 Atencion: El numero de filas y columnas debe ir entre corchetes."
   ]
  },
  {
   "cell_type": "code",
   "execution_count": null,
   "metadata": {},
   "outputs": [],
   "source": []
  },
  {
   "cell_type": "markdown",
   "metadata": {},
   "source": [
    "### 3. Usando Pandas crea una serie temporal con las fechas de todos los dias de este año. Guardala en una variable que se llame *dates*\n",
    "🚨 Atencion: Cuidado con el orden de la fecha, primero el año, despues el mes y por ultimo el dia."
   ]
  },
  {
   "cell_type": "code",
   "execution_count": null,
   "metadata": {},
   "outputs": [],
   "source": []
  },
  {
   "cell_type": "markdown",
   "metadata": {},
   "source": [
    "### 4. Ahora con Pandas crea un DataFrame que se llame *temp_df* en el que *dates* sea el indice y que contenga una columna con los datos de *temp*. Llama a dicha columna *'temperature (DegC)'*."
   ]
  },
  {
   "cell_type": "code",
   "execution_count": null,
   "metadata": {},
   "outputs": [],
   "source": []
  },
  {
   "cell_type": "markdown",
   "metadata": {},
   "source": [
    "### 5. Extrae solo la parte de *temp_df* que corresponda a Diciembre"
   ]
  },
  {
   "cell_type": "code",
   "execution_count": null,
   "metadata": {},
   "outputs": [],
   "source": []
  },
  {
   "cell_type": "markdown",
   "metadata": {},
   "source": [
    "### 6. Ahora a los valores que corresponden a Enero dales el valor 5."
   ]
  },
  {
   "cell_type": "code",
   "execution_count": null,
   "metadata": {},
   "outputs": [],
   "source": []
  },
  {
   "cell_type": "markdown",
   "metadata": {},
   "source": [
    "### 7. Ahora a los valores que corresponden a Febrero y Marzo dales el valor 7 y  10 respectivamente."
   ]
  },
  {
   "cell_type": "code",
   "execution_count": null,
   "metadata": {},
   "outputs": [],
   "source": []
  },
  {
   "cell_type": "markdown",
   "metadata": {},
   "source": [
    "### 8. Crea un bucle que haga esta operacion automaticamente para cada mes. Empezando por Enero dales los valores siguientes a cada mes: 5, 7, 10, 14, 18, 23, 27, 30, 25, 20, 12, 6."
   ]
  },
  {
   "cell_type": "code",
   "execution_count": null,
   "metadata": {},
   "outputs": [],
   "source": []
  },
  {
   "cell_type": "markdown",
   "metadata": {},
   "source": [
    "### 9. Haz lo mismo pero ahora en vez de dar un valor igual para todos los dias de cada mes, dale un valor aleatorio a cada dia. El valor aleatorio lo generamos con una distribucion normal de media 5, 7, 10, 14, 18, 23, 27, 30, 25, 20, 12, 6 para cada mes y una desviacion estandar de 2 para todos los meses."
   ]
  },
  {
   "cell_type": "code",
   "execution_count": null,
   "metadata": {},
   "outputs": [],
   "source": []
  }
 ],
 "metadata": {
  "kernelspec": {
   "display_name": "Python 3",
   "language": "python",
   "name": "python3"
  },
  "language_info": {
   "codemirror_mode": {
    "name": "ipython",
    "version": 3
   },
   "file_extension": ".py",
   "mimetype": "text/x-python",
   "name": "python",
   "nbconvert_exporter": "python",
   "pygments_lexer": "ipython3",
   "version": "3.8.5"
  }
 },
 "nbformat": 4,
 "nbformat_minor": 4
}
