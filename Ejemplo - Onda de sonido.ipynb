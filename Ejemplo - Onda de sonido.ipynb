{
 "cells": [
  {
   "cell_type": "markdown",
   "metadata": {},
   "source": [
    "# Onda de sonido 🎵\n",
    "En este Notebook vamos a ver como podemos dibujar la ecuacion de la onda de sonido y como podemos cambiar las caracteristicas de la onda y del sonido de una manera interactiva usando ***Ipywidgets*** ademas de otras librerias como NumPy y Matplotlib.\n",
    "\n",
    "## 1. Importar librerias\n",
    "Para usar ciertas funciones necesitamos importar primero de todo las librerias (o coleccion de funciones) que contienen dichas funciones.\n",
    "\n",
    "🚨 **Importante**: para ejecutar el codigo, como el que hay en la celda debajo de este texto, clica en dicha celda con el raton y después pulsa el botón “**▶ Run**” que verás en el menu de arriba o sino tambien puedes presionar las teclas **shift** (dejandolo pulsado) **+ enter** de tu teclado."
   ]
  },
  {
   "cell_type": "code",
   "execution_count": null,
   "metadata": {},
   "outputs": [],
   "source": [
    "# Librarias para calculos matematicos\n",
    "import numpy as np\n",
    "\n",
    "# Librerias para visualizacion\n",
    "import matplotlib.pyplot as plt\n",
    "from ipywidgets import interact\n",
    "from IPython.display import display, Audio"
   ]
  },
  {
   "cell_type": "markdown",
   "metadata": {},
   "source": [
    "## 2. Definir la ecuacion de una onda de sonido\n",
    "<left><img src=\"util/onda_sonido.gif\" width=\"400px\">\n",
    "\n",
    "Una onda de sonido puede ser representada con una **curva sinusoidal** definida por los parametros: **amplitud, fase y frecuencia**. Para ello usamos la siguiente ecuacion:\n",
    "\n",
    "$y(x) = A \\sin( 2 \\pi (\\nu x + \\phi ))$\n",
    "\n",
    "donde\n",
    "\n",
    "$A = amplitud$\n",
    "\n",
    "$\\phi = fase$\n",
    "\n",
    "$\\nu = frecuenca$\n",
    "\n",
    "En la celda de abajo vamos a crear: \n",
    "- tres variables para definir la amplitud, la fase y la frecuencia: ***amp, fase, frec***\n",
    "- un vector (o array) para definir los puntos en los que la ecuacion de la curva sera calculada: ***x***\n",
    "- la ecuacion de la curva (en funcion de *x*): ***y***\n",
    "    \n",
    "Para ello vamos a usar algunas de las funciones que vienen incluidas en la libreria **Numpy**, en particular vamos a usar las funciones: \n",
    "- **arange**: para generar un vector de valores de 0 a 1 en intervalos de 0.01\n",
    "- **pi**: para obtener el valor pi.\n",
    "- **sin**: funcion seno\n",
    "    \n",
    "🚨 No olvides que para ejecutar el codigo que hay en la celda debajo de este texto tienes que clicar en dicha celda con el ratón y después pulsar el botón “**▶ Run**” que verás en el menu de arriba o sino también puedes presionar las teclas **shift** (dejandolo pulsado) **+ enter** de tu teclado."
   ]
  },
  {
   "cell_type": "code",
   "execution_count": null,
   "metadata": {},
   "outputs": [],
   "source": [
    "amp = 10\n",
    "fase = 0 \n",
    "frec = 10 \n",
    "\n",
    "x = np.arange(0, 1, 0.01) # vector de valores de 0 a 1 en intervalos de 0.01\n",
    "\n",
    "y = amp * np.sin(2 * np.pi * (frec * x + fase))"
   ]
  },
  {
   "cell_type": "markdown",
   "metadata": {},
   "source": [
    "## 3. Visualizar la onda de sonido\n",
    "Vamos a usar las funciones de visualizacion que hemos importado previamente y los valores de amplitud, fase y frecuencia definido en la celda de arriba para dibujar la onda de sonido."
   ]
  },
  {
   "cell_type": "code",
   "execution_count": null,
   "metadata": {},
   "outputs": [],
   "source": [
    "plt.plot(x,y)\n",
    "plt.ylim(-20,20) # para fijar los limites del eje y, en este caso -20 y 20\n",
    "plt.show()"
   ]
  },
  {
   "cell_type": "markdown",
   "metadata": {},
   "source": [
    "### Ejercicio 1\n",
    "Hemos definido una onda de sonido de referencia la cual vamos a importar y dibujar (curva de color negro). Ademas vamos a dibujar nuestra onda de sonido que hemos definido arriba."
   ]
  },
  {
   "cell_type": "code",
   "execution_count": null,
   "metadata": {},
   "outputs": [],
   "source": [
    "# Onda de referencia\n",
    "from modulos.onda_ref import onda_ref # para importar la onda de referencia\n",
    "\n",
    "x_ref,y_ref = onda_ref() # asignamos los valores de x e y de la onda de referencia a las variables x_ref e y_ref respectivamente\n",
    "\n",
    "# Dibujar las ondas de sonido\n",
    "plt.plot(x,y)\n",
    "plt.plot(x_ref,y_ref, color = 'black') # para dibujar la onda de referencia (de color negro)\n",
    "plt.ylim(-20, 20)\n",
    "plt.show()"
   ]
  },
  {
   "cell_type": "markdown",
   "metadata": {},
   "source": [
    "En la siguiente celda cambia los valores de amplitud, fase y frecuencia para tratar de ajustar lo mejor que puedas la curva azul a la curva de referencia negra. Recuerda ejecutar la celda después de cambiar los valores, para que puedas visualizar los cambios."
   ]
  },
  {
   "cell_type": "code",
   "execution_count": null,
   "metadata": {},
   "outputs": [],
   "source": [
    "amp = 5 # amplitud\n",
    "fase = 0 # fase\n",
    "frec = 10 # frecuencia\n",
    "\n",
    "y = amp * np.sin(2 * np.pi * (frec * x + fase)) # valores en el eje y de la curva con los nuevos parametros (x no cambia)\n",
    "\n",
    "# Dibujar las ondas de sonido\n",
    "plt.plot(x,y)\n",
    "plt.plot(x_ref,y_ref, color = 'black') # para dibujar la onda de referencia (de color negro)\n",
    "plt.ylim(-20, 20)\n",
    "plt.show()"
   ]
  },
  {
   "cell_type": "markdown",
   "metadata": {},
   "source": [
    "### Ejercicio 2:\n",
    "Ahora intenta lo mismo pero usando controles deslizantes."
   ]
  },
  {
   "cell_type": "code",
   "execution_count": null,
   "metadata": {},
   "outputs": [],
   "source": [
    "# Primero definimos los parametros que queremos modificar de manera interactiva (ctrl_amp,ctrl_fase,ctrl_frec)\n",
    "# y el rango de valores posibles a asignar, por ejemplo: (1,20,0.1) = valores entre 1 y 20 en intervalos de 0.1 \n",
    "def onda_interactiva(ctrl_amp = 10, ctrl_fase = 0, ctrl_frec = 10):\n",
    "    plt.plot(x, ctrl_amp * np.sin(2 * np.pi * (ctrl_frec * x + ctrl_fase)))\n",
    "    plt.plot(x_ref,y_ref, color = 'black')\n",
    "    plt.ylim((-20,20))\n",
    "    plt.show()\n",
    "    \n",
    "interact(onda_interactiva,ctrl_amp = (1, 20, 0.1), ctrl_fase = (0, 1, 0.1), ctrl_frec = (1,10,0.1))"
   ]
  },
  {
   "cell_type": "markdown",
   "metadata": {},
   "source": [
    "Mas facil ahora, ¿no? ¿Crees que este tipo de grafica interactiva te ayuda a entender mejor el significado de los parametros *amp*, *fase* y *frec*?\n",
    "\n",
    "Si al definir el rango de valores que va a tomar cada parametro usamos una lista de valores, el tipo de widget cambia automaticamente."
   ]
  },
  {
   "cell_type": "code",
   "execution_count": null,
   "metadata": {},
   "outputs": [],
   "source": [
    "def onda_interactiva(ctrl_amp = 10, ctrl_fase = 0, ctrl_frec = 10):\n",
    "    plt.plot(x, ctrl_amp * np.sin(2 * np.pi * (ctrl_frec * x + ctrl_fase)))\n",
    "    plt.plot(x_ref,y_ref, color = 'black')\n",
    "    plt.ylim((-20,20))\n",
    "    plt.show()\n",
    "interact(onda_interactiva,ctrl_amp = (1, 20, 0.1), ctrl_fase = (0, 1, 0.1), ctrl_frec = [1,2,3,4,5,6,7,8,9,10])"
   ]
  },
  {
   "cell_type": "markdown",
   "metadata": {},
   "source": [
    "### Ejercicio 3\n",
    "¿Qué tal si ahora no solo vemos 👀 pero escuchamos 👂 la onda? Puedes cambiar el valor de la frecuencia de la onda (valores bajos de frecuencia producen sonidos mas graves y valores mas altos producen sonidos mas agudos). Después de cambiar el valor de la frecuencia de onda, recuerde hacer clic en el botón Reproducir para escuchar el sonido de la onda."
   ]
  },
  {
   "cell_type": "code",
   "execution_count": null,
   "metadata": {},
   "outputs": [],
   "source": [
    "def onda_interactiva(frec_Hz = 50): # entre parantesis debemos poner el valor inicial del parametro interactivo\n",
    "    x = np.arange(0,1,1/44100) # x axis from 0 to 1 with a 1/500 step\n",
    "    y = amp * np.sin(2 * np.pi * (frec_Hz * x + fase))\n",
    "    plt.figure(figsize=(20,3))\n",
    "    plt.plot(x,y)\n",
    "    display(Audio(y, rate=44100)) \n",
    "interact(onda_interactiva,frec_Hz = [50,100,200,500])"
   ]
  },
  {
   "cell_type": "markdown",
   "metadata": {},
   "source": [
    "Modificando el codigo de arriba comprueba si tienes **\"súper oido\"** y puedes escuchar sonidos con frecuencias inferiores a 20 Hz o superiores a 20000 Hz (el espectro audible humano = 20-20000 Hz)."
   ]
  },
  {
   "cell_type": "code",
   "execution_count": null,
   "metadata": {},
   "outputs": [],
   "source": []
  }
 ],
 "metadata": {
  "kernelspec": {
   "display_name": "Python 3 (ipykernel)",
   "language": "python",
   "name": "python3"
  },
  "language_info": {
   "codemirror_mode": {
    "name": "ipython",
    "version": 3
   },
   "file_extension": ".py",
   "mimetype": "text/x-python",
   "name": "python",
   "nbconvert_exporter": "python",
   "pygments_lexer": "ipython3",
   "version": "3.8.13"
  },
  "varInspector": {
   "cols": {
    "lenName": 16,
    "lenType": 16,
    "lenVar": 40
   },
   "kernels_config": {
    "python": {
     "delete_cmd_postfix": "",
     "delete_cmd_prefix": "del ",
     "library": "var_list.py",
     "varRefreshCmd": "print(var_dic_list())"
    },
    "r": {
     "delete_cmd_postfix": ") ",
     "delete_cmd_prefix": "rm(",
     "library": "var_list.r",
     "varRefreshCmd": "cat(var_dic_list()) "
    }
   },
   "types_to_exclude": [
    "module",
    "function",
    "builtin_function_or_method",
    "instance",
    "_Feature"
   ],
   "window_display": false
  }
 },
 "nbformat": 4,
 "nbformat_minor": 4
}
