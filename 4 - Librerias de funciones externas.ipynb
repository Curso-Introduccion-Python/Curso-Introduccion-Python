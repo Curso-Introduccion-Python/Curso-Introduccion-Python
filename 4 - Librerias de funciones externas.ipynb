{
 "cells": [
  {
   "cell_type": "markdown",
   "metadata": {},
   "source": [
    "# Librerias de funciones externas\n",
    "Las librerias externas contienen funciones que realizan tareas especificas por ejemplo de analisis estadistico o visualizacion de datos. Estas librerias complementan las funciones propias de Python (built-in functions) y para poder utilizarlas debemos primero instalarlas y despues importarlas en nuestro Notebook. En este curso vamos a ver algunas de las librerias mas populares de Python como NumPy y Pandas. Las librerias que veremos vienen con Anaconda asi que no vamos a necesitar instalarlas. Estas son algunas de las librerias externas (ademas de los entornos de programacion Jupyter Notebooks y Spyder) que instala Anaconda por defecto.\n",
    "\n",
    "<img src='util/Anaconda_librerias.png'>\n",
    "\n",
    "## 1. NumPy\n",
    "NumPy es una librería de funciones matematicas que es muy popular para realizar operaciones matematicas con vectores y matrices. NumPy tiene muchas funciones pero en este curso solo vamos unas pocas pero si quereis mas informacion de NumPy y todas las funciones que contiene puedes ir a este enlace: https://numpy.org/doc/stable/user/index.html\n",
    "\n",
    "<img src='util/Numpy_funciones.png'>\n",
    "\n",
    "Al ser una libreria externa, es decir las funciones no son propias (built-in) de Python, lo primero que debemos hacer para poder usar las funciones de NumPy es importar NumPy y darle un nombre, por ejemplo *np*."
   ]
  },
  {
   "cell_type": "code",
   "execution_count": null,
   "metadata": {},
   "outputs": [],
   "source": [
    "import numpy as np # importamos la libreria NumPy como np (podemos darle otro nombre si queremos)"
   ]
  },
  {
   "cell_type": "markdown",
   "metadata": {},
   "source": [
    "A partir de ahora para usar las funciones de NumPy debemos poner np. seguido del nombre de la funcion.\n",
    "\n",
    "⚡ Si en una celda ponemos np. y pulsamos la tecla Tabulador veremos la lista de funciones disponibles de Numpy que como verás son muchísimas."
   ]
  },
  {
   "cell_type": "code",
   "execution_count": null,
   "metadata": {},
   "outputs": [],
   "source": [
    "np."
   ]
  },
  {
   "cell_type": "markdown",
   "metadata": {},
   "source": [
    "### 1.1 Array\n",
    "Un concepto muy importante en NumPy es *array*, es como se llama a las estructuras de valores que utiliza NumPy. Un *array* es similar a una lista de valores pero en un formato que NumPy reconoce y que es compatible con las funciones de Numpy.\n",
    "\n",
    "<img src='util/tabla_list_vs_array.png' width=800px>\n",
    "\n",
    "Con la funcion ***array*** de NumPy podemos crear un array (vector o matriz) a partir de una lista de valores"
   ]
  },
  {
   "cell_type": "code",
   "execution_count": null,
   "metadata": {},
   "outputs": [],
   "source": [
    "miLista = [2,5,10,20,6] # creamos una lista de valores\n",
    "miArray = np.array(miLista) # creamos un array a partir de la lista de valores"
   ]
  },
  {
   "cell_type": "code",
   "execution_count": null,
   "metadata": {},
   "outputs": [],
   "source": [
    "miArray."
   ]
  },
  {
   "cell_type": "code",
   "execution_count": null,
   "metadata": {},
   "outputs": [],
   "source": [
    "miLista."
   ]
  },
  {
   "cell_type": "markdown",
   "metadata": {},
   "source": [
    "miArray es ahora una lista de valores que al tener el formato formato *array* la hacemos compatible con NumPy"
   ]
  },
  {
   "cell_type": "markdown",
   "metadata": {},
   "source": [
    "### 1.2 Funciones basicas de NumPy\n",
    "NumPy contiene una serie de funciones basicas que son muy similares a algunas de las funciones propias (built-in) de Python, por ejemplo:\n",
    "\n",
    "Para crear secuencias de valores"
   ]
  },
  {
   "cell_type": "code",
   "execution_count": null,
   "metadata": {},
   "outputs": [],
   "source": [
    "miArray = np.arange(1,10,1)"
   ]
  },
  {
   "cell_type": "markdown",
   "metadata": {},
   "source": [
    "En el case de miArray, hemos creado una lista de valores del tipo *array* (es decir un vector o matriz) que es el formato propio de NumPy "
   ]
  },
  {
   "cell_type": "code",
   "execution_count": null,
   "metadata": {},
   "outputs": [],
   "source": [
    "miArray"
   ]
  },
  {
   "cell_type": "markdown",
   "metadata": {},
   "source": [
    "Para calcular el maximo valor"
   ]
  },
  {
   "cell_type": "code",
   "execution_count": null,
   "metadata": {},
   "outputs": [],
   "source": [
    "np.max(miArray)"
   ]
  },
  {
   "cell_type": "code",
   "execution_count": null,
   "metadata": {},
   "outputs": [],
   "source": [
    "max(miArray)"
   ]
  },
  {
   "cell_type": "markdown",
   "metadata": {},
   "source": [
    "❗ Como puedes ver las dos funciones se llaman igual *max*, pero podemos distinguir la que es propia de NumPy porque debemos poner *np.* delante del nombre de la funcion. \n",
    "\n",
    "Para calcular el numero de valores o elementos tenemos la funcion *size* que es similar a la funcion propia de Python llamada *len*."
   ]
  },
  {
   "cell_type": "code",
   "execution_count": null,
   "metadata": {},
   "outputs": [],
   "source": [
    "np.size(miArray)"
   ]
  },
  {
   "cell_type": "code",
   "execution_count": null,
   "metadata": {},
   "outputs": [],
   "source": [
    "len(miArray)"
   ]
  },
  {
   "cell_type": "markdown",
   "metadata": {},
   "source": [
    "### 1.3 Creacion de arrays de valores aleatorios\n",
    "Con la funcion ***random*** podemos crear arrays (vectores o matrices) de valores aleatorios con una determinada distribucion estadistica. Dentro de la funcion *random* podemos usar otras sub-funciones si ponemos random seguido de un punto, entre ellas tenemos las sub-funciones ***uniform*** y ***normal***.\n",
    "\n",
    "Por ejemplo vamos a crear un vector de 20 valores aleatorios comprendidos entre 0 y 5 segun una distribucion uniforme:\n",
    "<img src='util/distribucion_uniforme.png'>"
   ]
  },
  {
   "cell_type": "code",
   "execution_count": null,
   "metadata": {},
   "outputs": [],
   "source": [
    "np.random.uniform(low=0, high=10, size=[20,1]) # low = limite inferior, high = limite superior, \n",
    "# size = [numero de filas, numero de columnas] del array (vector o matriz)"
   ]
  },
  {
   "cell_type": "markdown",
   "metadata": {},
   "source": [
    "O un vector 20 de valores aleatorios segun una distribucion normal con un valor medio igual a 5 y una desviacion estandar igual a 2.\n",
    "<img src='util/distribucion_normal.png'>"
   ]
  },
  {
   "cell_type": "code",
   "execution_count": null,
   "metadata": {},
   "outputs": [],
   "source": [
    "np.random.normal(loc = 5, scale = 2, size=[20,1]) # loc = valor medio, scale = desviacion estandard\n",
    "# size = [numero de filas, numero de columnas] del array (vector o matriz)"
   ]
  },
  {
   "cell_type": "markdown",
   "metadata": {},
   "source": [
    "<img src='util/caja_matriz.jpg' style = 'width:150px; float:right'><h>⚡ **Ejercicio:** Intenta tú ahora crear una matriz de valores aleatorios segun una distribucion **normal**. \n",
    "    \n",
    "La matriz debe tener **3 filas y 5 columnas** y los valores deben tener un **valor medio de 10** y una **desviacion estandar de 3**."
   ]
  },
  {
   "cell_type": "code",
   "execution_count": null,
   "metadata": {},
   "outputs": [],
   "source": []
  },
  {
   "cell_type": "markdown",
   "metadata": {},
   "source": [
    "Ahora crea una variable que se llame *matriz* y que contenga una matriz como la que acabamos de crear."
   ]
  },
  {
   "cell_type": "code",
   "execution_count": null,
   "metadata": {},
   "outputs": [],
   "source": []
  },
  {
   "cell_type": "markdown",
   "metadata": {},
   "source": [
    "¿Tienen los mismos valores las dos matrices que hemos creado?\n",
    "\n",
    "Y por ultimo calcula el numero de valores que tiene *matriz*"
   ]
  },
  {
   "cell_type": "code",
   "execution_count": null,
   "metadata": {},
   "outputs": [],
   "source": []
  },
  {
   "cell_type": "markdown",
   "metadata": {},
   "source": [
    "## 2. Pandas\n",
    "Pandas es una librería de Python especializada en el manejo y análisis de estructuras de datos, en particular tablas de datos. Con Pandas puedes:\n",
    "\n",
    "- Define nuevas estructuras de datos basadas en los arrays de la librería NumPy pero con nuevas funcionalidades.\n",
    "- Permite **leer y escribir fácilmente ficheros en formato CSV y Excel**.\n",
    "- Permite **acceder a los datos mediante índices o nombres para filas y columnas**.\n",
    "- Ofrece métodos para **reordenar, dividir y combinar conjuntos de datos**.\n",
    "- Permite trabajar con **series temporales**.\n",
    "\n",
    "Pandas tiene muchas funciones pero en este curso solo vamos unas pocas pero si quereis mas informacion de Pandas y todas las funciones que contiene puedes ir a este enlace: https://pandas.pydata.org/docs/getting_started/intro_tutorials/index.html\n",
    "\n",
    "<img src='util/Pandas_funciones.png'>\n",
    "\n",
    "En este Notebook vamos a ver ademas como podemos combinar las librerias NumPy y Pandas.\n",
    "\n",
    "Al ser Pandas una libreria externa, es decir las funciones no son propias (built-in) de Python, lo primero que debemos hacer para poder usar las funciones de NumPy es importar Pandas y darle un nombre, por ejemplo *pd*."
   ]
  },
  {
   "cell_type": "code",
   "execution_count": null,
   "metadata": {},
   "outputs": [],
   "source": [
    "import pandas as pd\n",
    "import numpy as np"
   ]
  },
  {
   "cell_type": "markdown",
   "metadata": {},
   "source": [
    "A partir de ahora para usar las funciones de Pandas debemos poner `pd.` seguido del nombre de la funcion.\n",
    "\n",
    "⚡ Si en una celda ponemos `pd.` y pulsamos la tecla Tabulador veremos la lista de funciones disponibles de Pandas que como verás son muchísimas."
   ]
  },
  {
   "cell_type": "code",
   "execution_count": null,
   "metadata": {},
   "outputs": [],
   "source": [
    "pd."
   ]
  },
  {
   "cell_type": "markdown",
   "metadata": {},
   "source": [
    "### 2.1 Dataframes\n",
    "Un concepto muy importante en Pandas es *dataframe*, es como se llama a las estructuras de valores que utiliza Pandas. Un *dataframe* son el nucleo de Pandas y podemos pensar en un *dataframe* como una tabla de datos que comparten el mismo índice o en otras palabras el equivalente de un tabla de Excel. Vamos a crear un *dataframe* con Pandas para entender mejor que es y para que nos puede servir.\n",
    "\n",
    "Primero vamos a crear una matriz de valores aleatorios con NumPy (tal y como hemos visto en la primera parte de este Notebook dedicada a NumPy). Por ejemplo, con la funcion de NumPy *random.uniform* creamos una matriz de 12 filas y 6 columnas de valores aleatorios comprendidos entre 0 y 100 y le vamos a dar el nombre *rain*."
   ]
  },
  {
   "cell_type": "code",
   "execution_count": null,
   "metadata": {},
   "outputs": [],
   "source": [
    "rain = np.random.uniform(low = 0, high = 100, size = [12,6])\n",
    "print(rain)"
   ]
  },
  {
   "cell_type": "markdown",
   "metadata": {},
   "source": [
    "Ahora usando Pandas vamos a crear el Dataframe usando los datos de *rain*, para ello vamos a utilizar la funcion *DataFrame* de Pandas."
   ]
  },
  {
   "cell_type": "code",
   "execution_count": null,
   "metadata": {},
   "outputs": [],
   "source": [
    "rain_df = pd.DataFrame(rain)\n",
    "rain_df"
   ]
  },
  {
   "cell_type": "markdown",
   "metadata": {},
   "source": [
    "¿Qué ha cambiado?\n",
    "\n",
    "Vamos a hacerlo de nuevo pero ahora vamos a especificar el nombre de las filas (*index*) y las columnas (*columns*)."
   ]
  },
  {
   "cell_type": "code",
   "execution_count": null,
   "metadata": {},
   "outputs": [],
   "source": [
    "rain_df = pd.DataFrame(rain, index = ['Ene', 'Feb', 'Mar', 'Abr', 'May', 'Jun', 'Jul', 'Ago', 'Sep', 'Oct', 'Nov', 'Dec'],\n",
    "                             columns = ['2022', '2023', '2024', '2025', '2026', '2027'])\n",
    "rain_df"
   ]
  },
  {
   "cell_type": "markdown",
   "metadata": {},
   "source": [
    "De este modo podemos dar mas informacion de los datos contenidos en una matriz o vector. \n",
    "\n",
    "### 2.2 Extraer valores seleccionados\n",
    "De una manera similar a como hacemos en Numpy con los *arrays*, podemos extraer los datos que mas nos interese de un *dataframe* pero Pandas nos permite acceder a los datos mediante índices o nombres para filas y columnas en vez de numeros de filas o columnas. Para ello utilizamos la funcion *loc*."
   ]
  },
  {
   "cell_type": "code",
   "execution_count": null,
   "metadata": {},
   "outputs": [],
   "source": [
    "rain_df.loc[['Ago','Dec'],['2023','2026']]"
   ]
  },
  {
   "cell_type": "code",
   "execution_count": null,
   "metadata": {},
   "outputs": [],
   "source": [
    "rain_df.loc['Ago':'Dec','2023':'2026']"
   ]
  },
  {
   "cell_type": "code",
   "execution_count": null,
   "metadata": {},
   "outputs": [],
   "source": [
    "rain_ago_df = rain_df.loc['Ago',:]\n",
    "rain_ago_df"
   ]
  },
  {
   "cell_type": "markdown",
   "metadata": {},
   "source": [
    "### 2.3 Añadir o actualizar los valores de un *dataframe*"
   ]
  },
  {
   "cell_type": "markdown",
   "metadata": {},
   "source": [
    "Podemos añadir una nueva columna con nuevos datos"
   ]
  },
  {
   "cell_type": "code",
   "execution_count": null,
   "metadata": {},
   "outputs": [],
   "source": [
    "rain_df['2028'] = np.random.uniform(low = 0, high = 100, size = [12,1])\n",
    "rain_df"
   ]
  },
  {
   "cell_type": "markdown",
   "metadata": {},
   "source": [
    "¿Que pasa si repetimos la misma operacion?"
   ]
  },
  {
   "cell_type": "code",
   "execution_count": null,
   "metadata": {},
   "outputs": [],
   "source": [
    "rain_df['2028'] = np.random.uniform(low = 0, high = 100, size = [12,1])\n",
    "rain_df"
   ]
  },
  {
   "cell_type": "markdown",
   "metadata": {},
   "source": [
    "❗**Importante**: Presta atencion al numero entre corchetes a lado de la celda, te da el orden de ejecucion de las celdas.\n",
    "\n",
    "⚡**Ejercicio:** En la celda de abajo hemos escrito el codigo para añadir otra columna llamada 2029 pero al ejecutar la celda da un error, ¿sabes por que? ¿lo puedes arreglar?"
   ]
  },
  {
   "cell_type": "code",
   "execution_count": null,
   "metadata": {},
   "outputs": [],
   "source": [
    "rain_df['2029'] = np.random.uniform(low = 0, high = 100, size = [1,12])\n",
    "rain_df"
   ]
  },
  {
   "cell_type": "markdown",
   "metadata": {},
   "source": [
    "Vamos a crear una nueva columna que sea la media de los valores de cada año. Primero ¿como calculamos la media?"
   ]
  },
  {
   "cell_type": "code",
   "execution_count": null,
   "metadata": {},
   "outputs": [],
   "source": [
    "rain_df.mean(1) # si entre parentesis ponemos 0 la media la hace por columnas, si es un 1 entonces la media es por filas."
   ]
  },
  {
   "cell_type": "markdown",
   "metadata": {},
   "source": [
    "Ahora añadimo una columna llamada *media* con la media de los valores por filas."
   ]
  },
  {
   "cell_type": "code",
   "execution_count": null,
   "metadata": {},
   "outputs": [],
   "source": [
    "rain_df['media'] = rain_df.mean(1)\n",
    "rain_df"
   ]
  },
  {
   "cell_type": "markdown",
   "metadata": {},
   "source": [
    "### 2.4 Series temporales con Pandas\n",
    "Pandas introduce un nuevo tipo de valor (ademas de los que ya habiamos visto: numerico, cadena de caracteres y booleano) que es la fecha. Como vamos a ver esto es especialmente util para tratamiento y analisis de series temporales (o historicas) por ejemplo, datos diarios de lluvia. \n",
    "\n",
    "Como ejemplo vamos a crear usa serie temporal de datos diarios de lluvia: \n",
    "\n",
    "1. Con la funcion *random.uniform* de NumPy creamos un *array* de 365 valores aleatorios comprendidos entre 0 y 20 y lo guardamos en un variable que se llame *lluvia_array*:"
   ]
  },
  {
   "cell_type": "code",
   "execution_count": null,
   "metadata": {},
   "outputs": [],
   "source": [
    "lluvia_array = np.random.uniform(low=0, high=20, size = [365,1])\n",
    "lluvia_array"
   ]
  },
  {
   "cell_type": "markdown",
   "metadata": {},
   "source": [
    "2. Ahora con la funcion ***date_range*** de Pandas creamos un serie temporal con las fechas del año 2021 y lo guardamos en la variable fechas_2021 "
   ]
  },
  {
   "cell_type": "code",
   "execution_count": null,
   "metadata": {},
   "outputs": [],
   "source": [
    "fechas_2021 = pd.date_range(start = '2021-01-01', end = '2021-12-31') \n",
    "fechas_2021"
   ]
  },
  {
   "cell_type": "markdown",
   "metadata": {},
   "source": [
    "3. Por ultimo creamos un dataframe llamado *lluvia_dataframe* en el que los indices sean los valores de *fechas_2021*, y que contenga una columna llamada *lluvia (mm / dia)* con los datos de *lluvia_array*."
   ]
  },
  {
   "cell_type": "code",
   "execution_count": null,
   "metadata": {},
   "outputs": [],
   "source": [
    "lluvia_dataframe = pd.DataFrame(lluvia_array, index = fechas_2021, columns = ['lluvia'])\n",
    "lluvia_dataframe"
   ]
  },
  {
   "cell_type": "code",
   "execution_count": null,
   "metadata": {},
   "outputs": [],
   "source": [
    "lluvia_dataframe['2021-02-01':'2021-02-28']"
   ]
  },
  {
   "cell_type": "code",
   "execution_count": null,
   "metadata": {},
   "outputs": [],
   "source": [
    "lluvia_dataframe[lluvia_dataframe.index.month == 2]"
   ]
  },
  {
   "cell_type": "code",
   "execution_count": null,
   "metadata": {},
   "outputs": [],
   "source": [
    "lluvia_dataframe[lluvia_dataframe['lluvia'] > 18]"
   ]
  },
  {
   "cell_type": "code",
   "execution_count": null,
   "metadata": {},
   "outputs": [],
   "source": [
    "lluvia_dataframe['2021-02-01':'2021-02-28'][lluvia_dataframe['lluvia'] > 18]"
   ]
  },
  {
   "cell_type": "code",
   "execution_count": null,
   "metadata": {},
   "outputs": [],
   "source": [
    "lluvia_dataframe[lluvia_dataframe.index.month == 2][lluvia_dataframe['lluvia'] > 18]"
   ]
  },
  {
   "cell_type": "code",
   "execution_count": null,
   "metadata": {},
   "outputs": [],
   "source": [
    "lluvia_dataframe.resample(\"W\").mean()"
   ]
  },
  {
   "cell_type": "markdown",
   "metadata": {},
   "source": [
    "Si quereis saber mas sobre como crear y modificar dataframes: https://pandas.pydata.org/docs/user_guide/index.html\n",
    "\n",
    "### 2.5 Pandas y Excel\n",
    "#### Guadar dataframes en archivos que pueda leer Excel\n",
    "Una de las mejores caracteristicas de Pandas es que puedes guardar los dataframes en formato Excel. Vamos a guardar el dataframe *rain_df* en la carpeta *datos* como un archivo Excel (.xlsx), para ello utilizamos la funcion ***to_excel***"
   ]
  },
  {
   "cell_type": "code",
   "execution_count": null,
   "metadata": {},
   "outputs": [],
   "source": [
    "rain_df.to_excel('datos/rain_df.xlsx')"
   ]
  },
  {
   "cell_type": "markdown",
   "metadata": {},
   "source": [
    "Tambien podemos guardarlo como un archivo de texto del tipo .csv (comma-separated values) con la funcion ***to_csv***"
   ]
  },
  {
   "cell_type": "code",
   "execution_count": null,
   "metadata": {},
   "outputs": [],
   "source": [
    "rain_df.to_csv('datos/lluvia_dataframe.csv')"
   ]
  },
  {
   "cell_type": "markdown",
   "metadata": {},
   "source": [
    "#### Leer archivos Excel con Pandas\n",
    "Y tambien leer archivos Excel. Con la funcion ***read_excel*** las tablas Excel son convertidas a *dataframe* y asi podemos utilizar las funciones de Pandas"
   ]
  },
  {
   "cell_type": "code",
   "execution_count": null,
   "metadata": {},
   "outputs": [],
   "source": [
    "pd.read"
   ]
  },
  {
   "cell_type": "code",
   "execution_count": null,
   "metadata": {},
   "outputs": [],
   "source": [
    "pd.read_excel('datos/rain_df.xlsx')"
   ]
  },
  {
   "cell_type": "markdown",
   "metadata": {},
   "source": [
    "E igualmente podemos leer archivos de texto del tipo .csv (comma-separated values) con la funcion ***read_csv*** y guardarlo como una variable"
   ]
  },
  {
   "cell_type": "code",
   "execution_count": null,
   "metadata": {},
   "outputs": [],
   "source": [
    "colesterol_df = pd.read_csv('datos/colesterol.csv') # leemos los datos del archivo colesterol.csv y\n",
    "# los guardamos como un dataframe en una variable que se llama colesterol_df\n",
    "colesterol_df"
   ]
  },
  {
   "cell_type": "markdown",
   "metadata": {},
   "source": [
    "### 2.6 Utilizar operaciones de comparacion para extraer datos de un Dataframe que cumplan ciertas condiciones\n",
    "Con los operadores de comparacion (>, <, =) podemos extraer los datos que mas nos interesen de un dataframe.\n",
    "\n",
    "De los datos que tenemos disponibles en *colesterol_df* vamos primero a mirar la columna de la edad."
   ]
  },
  {
   "cell_type": "code",
   "execution_count": null,
   "metadata": {},
   "outputs": [],
   "source": [
    "np.max(colesterol_df['edad'])"
   ]
  },
  {
   "cell_type": "markdown",
   "metadata": {},
   "source": [
    "Ahora vemos cual son mayores de 40"
   ]
  },
  {
   "cell_type": "code",
   "execution_count": null,
   "metadata": {},
   "outputs": [],
   "source": [
    "colesterol_df['edad'] >= 40"
   ]
  },
  {
   "cell_type": "markdown",
   "metadata": {},
   "source": [
    "Asi solo podemos ver los indices que cumplen o no la condicion pero nos gustaria extraer todos los datos de las personas mayores de 40.\n",
    "```python\n",
    "nombre_dataframe[(nombre_dataframe['nombre_columna'] condicion)]\n",
    "```"
   ]
  },
  {
   "cell_type": "code",
   "execution_count": null,
   "metadata": {},
   "outputs": [],
   "source": [
    "colesterol_df[(colesterol_df['edad'] >= 40)]"
   ]
  },
  {
   "cell_type": "markdown",
   "metadata": {},
   "source": [
    "Ahora queremos ver que personas mayores de 40 tienen alto el colesterol, en este caso colesterol > 200. Cuando tenemos varias condiciones:\n",
    "\n",
    "```python\n",
    "nombre_dataframe[(nombre_dataframe['nombre_columna_1'] condicion_1) & (nombre_dataframe['nombre_columna_2'] condicion_2)]\n",
    "```"
   ]
  },
  {
   "cell_type": "code",
   "execution_count": null,
   "metadata": {},
   "outputs": [],
   "source": [
    "colesterol_df[(colesterol_df['edad'] >= 40) & (colesterol_df['colesterol'] > 200)]"
   ]
  },
  {
   "cell_type": "code",
   "execution_count": null,
   "metadata": {},
   "outputs": [],
   "source": []
  }
 ],
 "metadata": {
  "kernelspec": {
   "display_name": "Python 3 (ipykernel)",
   "language": "python",
   "name": "python3"
  },
  "language_info": {
   "codemirror_mode": {
    "name": "ipython",
    "version": 3
   },
   "file_extension": ".py",
   "mimetype": "text/x-python",
   "name": "python",
   "nbconvert_exporter": "python",
   "pygments_lexer": "ipython3",
   "version": "3.8.13"
  }
 },
 "nbformat": 4,
 "nbformat_minor": 4
}
