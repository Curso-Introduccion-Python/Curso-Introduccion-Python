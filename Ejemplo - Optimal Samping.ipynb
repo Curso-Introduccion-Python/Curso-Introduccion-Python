{
 "cells": [
  {
   "cell_type": "markdown",
   "id": "49a643a9",
   "metadata": {},
   "source": [
    "# Optimal sampling\n",
    "\n",
    "The code aims to find the \"best\" way to sample a Digital Elevation Model (DEM) for interpolation.  It does this by repeatedly generating random sets of sample points, interpolating the DEM based on those points, and calculating the Mean Squared Error (MSE) between the interpolated DEM and the original DEM.  The sampling strategy that produces the lowest MSE is considered the best.\n",
    "\n",
    "Here's a breakdown of the key parts:\n",
    "\n",
    "0. **Import the necessary libraries**"
   ]
  },
  {
   "cell_type": "code",
   "execution_count": null,
   "id": "6c5c16f6",
   "metadata": {},
   "outputs": [],
   "source": [
    "# Import libraries\n",
    "import numpy as np  # perform numerical operations, particularly for arrays.\n",
    "import rasterio  # read and write geospatial raster data (like GeoTIFFs).\n",
    "import matplotlib.pyplot as plt  # create plots and visualizations.\n",
    "from ipywidgets import interact # create interactive controls (like sliders, dropdowns, etc.)\n",
    "from scipy import interpolate # interpolate spatially\n",
    "import rasterio  # Import the rasterio library for reading and writing geospatial raster data (like GeoTIFFs)."
   ]
  },
  {
   "cell_type": "markdown",
   "id": "fb187608",
   "metadata": {},
   "source": [
    "1. **Load the DEM Raster**  "
   ]
  },
  {
   "cell_type": "code",
   "execution_count": null,
   "id": "20ab9e3f",
   "metadata": {},
   "outputs": [],
   "source": [
    "# Open the Digital Elevation Model (DEM) raster file\n",
    "raster = rasterio.open('datos/dem.tif')\n",
    "\n",
    "# Read the first band of the DEM (assuming it's a single-band raster)\n",
    "dem = raster.read(1)  # Extracts a 2D array representing elevation values\n",
    "\n",
    "# Get the number of rows and columns in the DEM\n",
    "n_rows, n_cols = dem.shape"
   ]
  },
  {
   "cell_type": "markdown",
   "id": "b9f1d06b",
   "metadata": {},
   "source": [
    "2. **Random Sampling:** The code generates random row and column indices within the DEM to select sample points.  The np.random.seed(i) ensures that each run uses a different set of random points, but the results are reproducible if you run the code again with the same parameters. Adding the corners to the sample points ensures that the edge of the DEM is well represented."
   ]
  },
  {
   "cell_type": "code",
   "execution_count": null,
   "id": "4f83a242",
   "metadata": {},
   "outputs": [],
   "source": [
    "n_points = 10 # number of samples that we can take on the field\n",
    "\n",
    "# Generate random row and column indices within the DEM dimensions\n",
    "np.random.seed(49)\n",
    "rows = np.random.randint(0, n_rows, n_points)  # Random row indices\n",
    "cols = np.random.randint(0, n_cols, n_points)  # Random column indices\n",
    "rows = np.append(rows,[0,0,n_rows-1,n_rows-1])\n",
    "cols = np.append(cols,[0,n_cols-1,0,n_cols-1])\n",
    "# Extract elevation values at the randomly selected points\n",
    "elevations = dem[rows, cols]"
   ]
  },
  {
   "cell_type": "markdown",
   "id": "074bd65d",
   "metadata": {},
   "source": [
    "3. **Interpolation:**  interpolate.griddata uses cubic interpolation to estimate the elevation values at all points on the DEM grid, based on the sampled points. Cubic interpolation creates a smoother surface compared to other methods."
   ]
  },
  {
   "cell_type": "code",
   "execution_count": null,
   "id": "09ce8796",
   "metadata": {},
   "outputs": [],
   "source": [
    "grid_x, grid_y = np.meshgrid(np.arange(0, n_rows), np.arange(0, n_cols), indexing='ij')\n",
    "grid_z = interpolate.griddata(np.column_stack([rows, cols]), elevations, (grid_x, grid_y), method= 'cubic')"
   ]
  },
  {
   "cell_type": "markdown",
   "id": "758393e7",
   "metadata": {},
   "source": [
    "4. **Mean Absolute Error (MAE):** The MAE measures the average absolute difference between the original DEM and the interpolated DEM.  A lower MAE indicates a better interpolation."
   ]
  },
  {
   "cell_type": "code",
   "execution_count": null,
   "id": "8493c048",
   "metadata": {},
   "outputs": [],
   "source": [
    "MAE = np.nanmean((np.abs(dem-grid_z)))"
   ]
  },
  {
   "cell_type": "markdown",
   "id": "dc5ca9de",
   "metadata": {},
   "source": [
    "5. **Visualization:** The code generates plots to visualize the results:\n",
    "\n",
    "- The original DEM with the sampled points overlaid.\n",
    "- Histograms comparing the distribution of sampled elevations to the original DEM's elevations.\n",
    "- The interpolated DEM.\n",
    "- The difference between the original and interpolated DEMs, which helps to see where the interpolation is most accurate and least accurate."
   ]
  },
  {
   "cell_type": "code",
   "execution_count": null,
   "id": "252a1127",
   "metadata": {},
   "outputs": [],
   "source": [
    "# Create a figure with two subplots\n",
    "fig, axes = plt.subplots(2, 2, figsize=(17, 10))\n",
    "\n",
    "# Plot the DEM with the extracted points\n",
    "axes[0,0].imshow(dem, cmap='terrain')\n",
    "axes[0,0].scatter(cols, rows, edgecolor='k',alpha = 0.5)\n",
    "axes[0,0].set_title('Extracted Elevation from DEM (n= '+str(n_points)+' + 4)')\n",
    "\n",
    "# Plot histogram of the extracted elevation values\n",
    "axes[0,1].hist(elevations, bins=10, color='skyblue', edgecolor='black', density = True)\n",
    "axes[0,1].hist(dem.flatten(),bins = 50,histtype='step', density = True, label = 'DEM')\n",
    "axes[0,1].set_xlabel('Elevation (m)')\n",
    "axes[0,1].set_ylabel('Density')\n",
    "axes[0,1].set_title('Histogram of Extracted Elevation Values vs DEM histogram')\n",
    "axes[0,1].set_ylim([0,0.025])\n",
    "\n",
    "axes[1,0].imshow(grid_z, cmap='terrain')\n",
    "axes[1,0].set_title('Interpolated DEM')\n",
    "#axes[1,0].scatter(col_coords, row_coords, edgecolor='k',alpha = 0.5)\n",
    "plot4 = axes[1,1].imshow(dem-grid_z, cmap='coolwarm',vmin=-10,vmax=10)\n",
    "axes[1,1].set_title(f'MAE = {MAE:.2f}') \n",
    "plt.colorbar(plot4)\n",
    "plt.show()  # Display the plots"
   ]
  },
  {
   "cell_type": "markdown",
   "id": "012ad3cb",
   "metadata": {},
   "source": [
    "## Can we reduce the number of samples and still obtain a good interpolation?\n",
    "6. **Optimization:** The code iterates through multiple random sampling strategies and keeps track of the one that yields the lowest MSE.  This is a basic form of optimization – trying to find the best solution among many possibilities.\n",
    "\n",
    "7. **Interactivity:** ipywidgets.interact creates a slider that allows the user to control the number of iterations (n_runs).  This makes it easy to experiment and see how different numbers of random samples affect the results.\n",
    "\n",
    "In essence, this code explores different ways to sparsely sample a DEM and then reconstruct the full DEM from those samples.  The goal is to find a sampling strategy that minimizes the error in the reconstruction.  While the code uses a random search approach, more sophisticated optimization algorithms could be used to find even better sampling strategies."
   ]
  },
  {
   "cell_type": "code",
   "execution_count": null,
   "id": "22047552",
   "metadata": {},
   "outputs": [],
   "source": [
    "import numpy as np\n",
    "import matplotlib.pyplot as plt\n",
    "from scipy import interpolate\n",
    "from ipywidgets import interact\n",
    "\n",
    "def optimal_sampling(n_runs):\n",
    "    \"\"\"\n",
    "    Search for an optimal sampling strategy to interpolate a DEM.\n",
    "    Displays:\n",
    "    1. The DEM with sampled elevation points.\n",
    "    2. The histograms of the sampled elevation values vs the original DEM.\n",
    "    3. The interpolated DEM.\n",
    "    4. The difference between the original DEM and the interpolated DEM.\n",
    "\n",
    "    Parameters:\n",
    "    - n_runs (int): Number of iterations to search for an optimal sampling strategy.\n",
    "    \"\"\"\n",
    "    MAE_optimal = np.inf  # Initialize the minimum Mean Squared Error.\n",
    "    \n",
    "    for i in range(n_runs):\n",
    "        np.random.seed(i)  # Ensure reproducibility for each iteration.\n",
    "        \n",
    "        # Generate random sample points within DEM dimensions\n",
    "        rows = np.random.randint(0, n_rows, n_points)\n",
    "        cols = np.random.randint(0, n_cols, n_points)\n",
    "        \n",
    "        # Add corner points to ensure interpolation stability\n",
    "        rows = np.append(rows, [0, 0, n_rows-1, n_rows-1])\n",
    "        cols = np.append(cols, [0, n_cols-1, 0, n_cols-1])\n",
    "        \n",
    "        # Extract elevation values from the DEM\n",
    "        elevations = dem[rows, cols]\n",
    "        \n",
    "        # Create a meshgrid for interpolation\n",
    "        grid_x, grid_y = np.meshgrid(np.arange(n_rows), np.arange(n_cols), indexing='ij')\n",
    "        \n",
    "        # Perform cubic interpolation\n",
    "        grid_z = interpolate.griddata(np.column_stack([rows, cols]), elevations, (grid_x, grid_y), method='cubic')\n",
    "        \n",
    "        # Compute Absolute Squared Error (MAE)\n",
    "        MAE = np.nanmean((np.abs(dem - grid_z)))\n",
    "        \n",
    "        # Store the best (lowest MSE) interpolation result\n",
    "        if MAE < MAE_optimal:\n",
    "            rows_optimal = rows\n",
    "            cols_optimal = cols\n",
    "            MAE_optimal = MAE\n",
    "            grid_z_optimal = grid_z\n",
    "            elevations_optimal = elevations\n",
    "            i_optimal = i\n",
    "    \n",
    "    # Plot results\n",
    "    fig, axes = plt.subplots(2, 2, figsize=(17, 10))\n",
    "    \n",
    "    # Original DEM with sampled points\n",
    "    axes[0, 0].imshow(dem, cmap='terrain')\n",
    "    axes[0, 0].scatter(cols_optimal, rows_optimal, edgecolor='k', alpha=0.5)\n",
    "    axes[0, 0].set_title(f'Extracted Elevation from DEM (n={n_points})')\n",
    "    \n",
    "    # Histogram comparison\n",
    "    axes[0, 1].hist(elevations_optimal, bins=10, color='skyblue', edgecolor='black', density=True, label='Sampled')\n",
    "    axes[0, 1].hist(dem.flatten(), bins=50, histtype='step', density=True, label='DEM')\n",
    "    axes[0, 1].set_xlabel('Elevation (m)')\n",
    "    axes[0, 1].set_ylabel('Density')\n",
    "    axes[0, 1].set_title('Histogram: Sampled vs DEM')\n",
    "    axes[0, 1].legend()\n",
    "    axes[0, 1].set_ylim([0,0.025])\n",
    "    \n",
    "    # Interpolated DEM\n",
    "    axes[1, 0].imshow(grid_z_optimal, cmap='terrain')\n",
    "    axes[1, 0].set_title('Interpolated DEM')\n",
    "    \n",
    "    # Difference map\n",
    "    im = axes[1, 1].imshow(dem - grid_z_optimal, cmap='coolwarm', vmin=-10, vmax=10)\n",
    "    axes[1, 1].set_title(f'Difference Map (MAE = {MAE_optimal:.2f})')\n",
    "    plt.colorbar(im, ax=axes[1, 1])\n",
    "    \n",
    "    plt.tight_layout()\n",
    "    plt.show()\n",
    "    \n",
    "    print(f\"The optimal solution was obtained in the iteration i = {i_optimal}\")\n",
    "\n",
    "# Create an interactive widget to select the number of iterations\n",
    "interact(optimal_sampling, n_runs=[1, 10, 50, 100, 500, 1000, 5000])\n"
   ]
  },
  {
   "cell_type": "markdown",
   "id": "eeecf4df",
   "metadata": {},
   "source": [
    "## What about a regular gridded sampling approach?"
   ]
  },
  {
   "cell_type": "code",
   "execution_count": null,
   "id": "b584c237",
   "metadata": {},
   "outputs": [],
   "source": [
    "# Compute number of points per axis (square root approximation)\n",
    "num_points_per_axis = int(np.sqrt(n_points))\n",
    "\n",
    "# Ensure spacing is equal for both rows and columns\n",
    "spacing = min(n_rows // (num_points_per_axis - 1), n_cols // (num_points_per_axis - 1))\n",
    "\n",
    "# Compute number of points per axis (square root approximation)\n",
    "num_points_per_axis = int(np.sqrt(n_points))\n",
    "\n",
    "# Ensure spacing is equal for both rows and columns\n",
    "spacing = min(n_rows // (num_points_per_axis - 1), n_cols // (num_points_per_axis - 1))\n",
    "\n",
    "rows, cols = np.meshgrid(np.arange(0, n_rows,spacing), np.arange(0, n_cols,spacing), indexing='ij')\n",
    "rows = rows.flatten()\n",
    "cols = cols.flatten()\n",
    "\n",
    "elevations = dem[rows, cols]\n",
    "\n",
    "grid_z = interpolate.griddata(np.column_stack([rows, cols]), elevations, (grid_x, grid_y), method= 'cubic')\n",
    "\n",
    "MAE = np.nanmean((np.abs(dem-grid_z)))\n",
    "\n",
    "# Create a figure with two subplots\n",
    "fig, axes = plt.subplots(2, 2, figsize=(17, 10))\n",
    "\n",
    "# Plot the DEM with the extracted points\n",
    "axes[0,0].imshow(dem, cmap='terrain')\n",
    "axes[0,0].scatter(cols, rows, edgecolor='k',alpha = 0.5)\n",
    "axes[0,0].set_title(f'Extracted Elevation from DEM (n= {n_points})')\n",
    "\n",
    "# Plot histogram of the extracted elevation values\n",
    "axes[0,1].hist(elevations, bins=10, color='skyblue', edgecolor='black', density = True)\n",
    "axes[0,1].hist(dem.flatten(),bins = 50,histtype='step', density = True, label = 'DEM')\n",
    "axes[0,1].set_xlabel('Elevation (m)')\n",
    "axes[0,1].set_ylabel('Density')\n",
    "axes[0,1].set_title('Histogram of Extracted Elevation Values vs DEM histogram')\n",
    "axes[0,1].set_ylim([0,0.025])\n",
    "\n",
    "axes[1,0].imshow(grid_z, cmap='terrain')\n",
    "axes[1,0].set_title('Interpolated DEM')\n",
    "#axes[1,0].scatter(col_coords, row_coords, edgecolor='k',alpha = 0.5)\n",
    "plot4 = axes[1,1].imshow(dem-grid_z, cmap='coolwarm',vmin=-10,vmax=10)\n",
    "axes[1,1].set_title(f'MAE = {MAE:.2f}') \n",
    "plt.colorbar(plot4)\n",
    "plt.show()  # Display the plots"
   ]
  },
  {
   "cell_type": "code",
   "execution_count": null,
   "id": "a09d921d",
   "metadata": {},
   "outputs": [],
   "source": []
  }
 ],
 "metadata": {
  "kernelspec": {
   "display_name": "Python 3 (ipykernel)",
   "language": "python",
   "name": "python3"
  },
  "language_info": {
   "codemirror_mode": {
    "name": "ipython",
    "version": 3
   },
   "file_extension": ".py",
   "mimetype": "text/x-python",
   "name": "python",
   "nbconvert_exporter": "python",
   "pygments_lexer": "ipython3",
   "version": "3.8.13"
  },
  "varInspector": {
   "cols": {
    "lenName": 16,
    "lenType": 16,
    "lenVar": 40
   },
   "kernels_config": {
    "python": {
     "delete_cmd_postfix": "",
     "delete_cmd_prefix": "del ",
     "library": "var_list.py",
     "varRefreshCmd": "print(var_dic_list())"
    },
    "r": {
     "delete_cmd_postfix": ") ",
     "delete_cmd_prefix": "rm(",
     "library": "var_list.r",
     "varRefreshCmd": "cat(var_dic_list()) "
    }
   },
   "types_to_exclude": [
    "module",
    "function",
    "builtin_function_or_method",
    "instance",
    "_Feature"
   ],
   "window_display": false
  }
 },
 "nbformat": 4,
 "nbformat_minor": 5
}
