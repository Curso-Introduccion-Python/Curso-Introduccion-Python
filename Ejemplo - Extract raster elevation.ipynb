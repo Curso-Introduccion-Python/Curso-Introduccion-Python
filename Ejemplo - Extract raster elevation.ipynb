{
 "cells": [
  {
   "cell_type": "markdown",
   "id": "11759b88",
   "metadata": {},
   "source": [
    "# Extract raster elevation data\n",
    "\n",
    "In this Notebook we are going to extract the elevation of several points randomly selected over a digital elevation model (DEM)\n",
    "\n",
    "<img src=\"util/raster_DEM_2D_3D.png\" style=\"width: 800px\">\n",
    "\n",
    "## **Steps**\n",
    "### 0. Import the necessary libraries"
   ]
  },
  {
   "cell_type": "code",
   "execution_count": null,
   "id": "7494eea4",
   "metadata": {},
   "outputs": [],
   "source": [
    "# Import libraries\n",
    "import numpy as np  # Import the NumPy library for numerical operations, particularly for arrays.\n",
    "import rasterio  # Import the rasterio library for reading and writing geospatial raster data (like GeoTIFFs).\n",
    "import matplotlib.pyplot as plt  # Import matplotlib's pyplot module for creating plots and visualizations."
   ]
  },
  {
   "cell_type": "markdown",
   "id": "09c06ddb",
   "metadata": {},
   "source": [
    "### 1. Load the DEM Raster  \n",
    "   - The code uses `rasterio` to open a DEM stored in `'datos/dem.tif'`.\n",
    "   - The DEM is read as a 2D NumPy array (`dem`) representing elevation values."
   ]
  },
  {
   "cell_type": "code",
   "execution_count": null,
   "id": "02df8fbf",
   "metadata": {},
   "outputs": [],
   "source": [
    "# Open the Digital Elevation Model (DEM) raster file\n",
    "raster = rasterio.open('datos/dem.tif')\n",
    "\n",
    "# Read the first band of the DEM (assuming it's a single-band raster)\n",
    "dem = raster.read(1)  # Extracts a 2D array representing elevation values\n",
    "\n",
    "# Get the number of rows and columns in the DEM\n",
    "nrows, ncols = dem.shape\n",
    "\n",
    "raster.meta"
   ]
  },
  {
   "cell_type": "markdown",
   "id": "6faf1c00",
   "metadata": {},
   "source": [
    "### 2. Generate Random Points  \n",
    "   - The shape of the DEM is obtained (`nrows, ncols`).\n",
    "   - A total of `30` random points are generated within the raster’s row and column limits using `np.random.randint()`."
   ]
  },
  {
   "cell_type": "code",
   "execution_count": null,
   "id": "ddf5245c",
   "metadata": {},
   "outputs": [],
   "source": [
    "# Define the number of points to extract\n",
    "n_points = 30\n",
    "\n",
    "# Generate random row and column indices within the DEM dimensions\n",
    "np.random.seed(42) # Set a random seed for reproducibility\n",
    "row_coords = np.random.randint(0, nrows, n_points) # generate random integer values\n",
    "col_coords = np.random.randint(0, ncols, n_points) # generate random integer values"
   ]
  },
  {
   "cell_type": "markdown",
   "id": "0c71d1fb",
   "metadata": {},
   "source": [
    "### 3. Extract Elevation Values\n",
    "   - Using the randomly generated coordinates, elevation values are retrieved from the `dem` array."
   ]
  },
  {
   "cell_type": "code",
   "execution_count": null,
   "id": "1a727fb7",
   "metadata": {},
   "outputs": [],
   "source": [
    "# Extract elevation values at the randomly selected points\n",
    "elevations = dem[row_coords, col_coords]"
   ]
  },
  {
   "cell_type": "markdown",
   "id": "2a29d4c6",
   "metadata": {},
   "source": [
    "### 4. Plot the DEM and Sample Points\n",
    "   - The DEM is displayed using a terrain colormap (`cmap='terrain'`).\n",
    "   - The extracted elevation points are overlaid on the DEM using `plt.scatter()`, with colors representing their elevation values.\n",
    "   - A color bar, legend, and title are added for clarity."
   ]
  },
  {
   "cell_type": "code",
   "execution_count": null,
   "id": "2d96ece8",
   "metadata": {
    "scrolled": true
   },
   "outputs": [],
   "source": [
    "# Plot the DEM with the extracted points\n",
    "plt.figure(figsize=(10, 5))  # Set the figure size\n",
    "plt.imshow(dem, cmap='terrain')  # Display the DEM using a terrain colormap\n",
    "plt.colorbar(label='Elevation (m)')  # Add a color bar indicating elevation values\n",
    "plt.scatter(col_coords, row_coords, edgecolor='k', label='Sample Points')  \n",
    "# Overlay the randomly selected points, color-coded by elevation\n",
    "\n",
    "plt.legend()  # Display the legend\n",
    "plt.title('Extracted Elevation from DEM (n= '+str(n_points)+')')  # Add a title\n",
    "plt.show()  # Display the plot"
   ]
  },
  {
   "cell_type": "code",
   "execution_count": null,
   "id": "e8d746c1",
   "metadata": {},
   "outputs": [],
   "source": [
    "# Print on the screen the elevation values of the random points\n",
    "print(elevations)"
   ]
  },
  {
   "cell_type": "markdown",
   "id": "48eafa61",
   "metadata": {},
   "source": [
    "### 5. Save the results\n",
    "Now, let's **save** the elevation values as a text file, in this case as 'comma-separated values' (**.csv**) file. For this purpose we can use Numpy"
   ]
  },
  {
   "cell_type": "code",
   "execution_count": null,
   "id": "02c8158e",
   "metadata": {},
   "outputs": [],
   "source": [
    "np.savetxt('elevations.csv', elevations)"
   ]
  },
  {
   "cell_type": "markdown",
   "id": "becf722a",
   "metadata": {},
   "source": [
    "## How about making our code and figures more interactive?\n",
    "Here we are going to create an **interactive figure** so we can select the number of points using a slider"
   ]
  },
  {
   "cell_type": "code",
   "execution_count": null,
   "id": "94922e22",
   "metadata": {},
   "outputs": [],
   "source": [
    "from ipywidgets import interact\n",
    "\n",
    "# Extract elevation at given points\n",
    "def interactive_extract_elevation(n_points):\n",
    "    \n",
    "    \"\"\"\n",
    "    Generates random points within the DEM and extracts elevation values.\n",
    "    Displays:\n",
    "    1. The DEM with sampled elevation points.\n",
    "    \n",
    "    Parameters:\n",
    "    - n_points (int): Number of random points to extract.\n",
    "    \"\"\"\n",
    "\n",
    "    # Generate random row and column indices within the DEM dimensions\n",
    "    np.random.seed(42) # Set a random seed for reproducibility\n",
    "    row_coords = np.random.randint(0, nrows, n_points) # generate random integer values\n",
    "    col_coords = np.random.randint(0, ncols, n_points) # generate random integer values\n",
    "\n",
    "    # Extract elevation values at the randomly selected points\n",
    "    elevations = dem[row_coords, col_coords]\n",
    "\n",
    "    # Plot the DEM with the extracted points\n",
    "    plt.figure(figsize=(10, 5))  # Set the figure size\n",
    "    plt.imshow(dem, cmap='terrain')  # Display the DEM using a terrain colormap\n",
    "    plt.colorbar(label='Elevation (m)')  # Add a color bar indicating elevation values\n",
    "    plt.scatter(col_coords, row_coords, edgecolor='k')  \n",
    "    # Overlay the randomly selected points, color-coded by elevation\n",
    "    plt.title('Extracted Elevation from DEM (n= '+str(n_points)+')')  # Add a title\n",
    "    plt.show()  # Display the plot\n",
    "\n",
    "# Interactive widget for number of points\n",
    "interact(interactive_extract_elevation, n_points=(1, 50))\n"
   ]
  },
  {
   "cell_type": "code",
   "execution_count": null,
   "id": "743470f1",
   "metadata": {},
   "outputs": [],
   "source": []
  }
 ],
 "metadata": {
  "kernelspec": {
   "display_name": "Python 3 (ipykernel)",
   "language": "python",
   "name": "python3"
  },
  "language_info": {
   "codemirror_mode": {
    "name": "ipython",
    "version": 3
   },
   "file_extension": ".py",
   "mimetype": "text/x-python",
   "name": "python",
   "nbconvert_exporter": "python",
   "pygments_lexer": "ipython3",
   "version": "3.8.13"
  }
 },
 "nbformat": 4,
 "nbformat_minor": 5
}
