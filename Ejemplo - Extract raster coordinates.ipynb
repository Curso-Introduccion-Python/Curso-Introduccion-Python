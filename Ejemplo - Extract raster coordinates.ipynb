{
 "cells": [
  {
   "cell_type": "markdown",
   "id": "11759b88",
   "metadata": {},
   "source": [
    "# Extract raster coordinates\n",
    "\n",
    "In this Notebook we are going to extract not only the elevation but also the **coordinates** of several points randomly selected over a digital elevation model (DEM)\n",
    "\n",
    "<img src=\"util/raster_DEM_UTM_coord.png\" style=\"width: 600px\">\n",
    "\n",
    "## **Steps**\n",
    "### 0. Import the necessary libraries"
   ]
  },
  {
   "cell_type": "code",
   "execution_count": null,
   "id": "7494eea4",
   "metadata": {},
   "outputs": [],
   "source": [
    "# Import libraries\n",
    "import numpy as np  # Import the NumPy library for numerical operations, particularly for arrays.\n",
    "import rasterio  # Import the rasterio library for reading and writing geospatial raster data (like GeoTIFFs).\n",
    "import matplotlib.pyplot as plt  # Import matplotlib's pyplot module for creating plots and visualizations."
   ]
  },
  {
   "cell_type": "markdown",
   "id": "b2fc4170",
   "metadata": {},
   "source": [
    "### 1. Load the DEM Raster  \n",
    "When you load a raster file (like a DEM) using Rasterio in Python, you get more than just the raw elevation data. Here's a breakdown of what you get:\n",
    "\n",
    "a. **DEM (Digital Elevation Model)**\n",
    "\n",
    "This is the core data – a 2D array (or sometimes a multi-dimensional array for multi-band rasters) of elevation values. Each cell in the array corresponds to a location on the ground, and the value in that cell represents the elevation at that point.   "
   ]
  },
  {
   "cell_type": "code",
   "execution_count": null,
   "id": "e8901f5e",
   "metadata": {},
   "outputs": [],
   "source": [
    "# Open the Digital Elevation Model (DEM) raster file\n",
    "raster = rasterio.open('datos/dem.tif')\n",
    "\n",
    "# Read the first band of the DEM (assuming it's a single-band raster)\n",
    "dem = raster.read(1)  # Extracts a 2D array representing elevation values\n",
    "\n",
    "# Get the number of rows and columns in the DEM\n",
    "nrows, ncols = dem.shape"
   ]
  },
  {
   "cell_type": "markdown",
   "id": "a21623a3",
   "metadata": {},
   "source": [
    "b. **Metadata**\n",
    "\n",
    "Think of metadata as the descriptive information about your DEM. This can include:\n",
    "- Spatial Reference System (SRS): Tells you how the DEM is georeferenced (e.g., latitude/longitude, UTM). This is crucial for knowing where your data is located on Earth.\n",
    "- Data Type: The type of data used to store elevation values (e.g., integers, floating-point numbers). This affects precision and storage size.\n",
    "- NoData Values: Values used to represent areas where elevation data is missing or invalid.   \n",
    "- Number of Rows and Columns: The dimensions of the DEM grid.\n",
    "- Units: The units of measurement for elevation (e.g., meters, feet).\n",
    "- Creation Date: When the DEM was created or last modified.\n",
    "- Source: Where the DEM data came from."
   ]
  },
  {
   "cell_type": "code",
   "execution_count": null,
   "id": "d8125f6d",
   "metadata": {},
   "outputs": [],
   "source": [
    "raster.meta"
   ]
  },
  {
   "cell_type": "markdown",
   "id": "b6bc31dd",
   "metadata": {},
   "source": [
    "c. **Transform**\n",
    "\n",
    "The transform (often called an affine transform) is a mathematical function that links the pixel coordinates in your DEM array to real-world coordinates in your chosen Spatial Reference System.\n",
    "It essentially tells you how to go from a pixel in your array to a specific location on the ground (and vice versa).\n",
    "The transform is usually represented as a 3x3 matrix, but Rasterio provides tools to work with it more easily.\n",
    "\n",
    "**Why are Metadata and Transform Important?** Without metadata and the transform, your DEM is just a grid of numbers. You wouldn't know where those numbers correspond to on the Earth's surface."
   ]
  },
  {
   "cell_type": "code",
   "execution_count": null,
   "id": "b0fcd36b",
   "metadata": {},
   "outputs": [],
   "source": [
    "raster.transform"
   ]
  },
  {
   "cell_type": "markdown",
   "id": "ce806a69",
   "metadata": {},
   "source": [
    "### 2. Generate Random Points  \n",
    "   - The shape of the DEM is obtained (`nrows, ncols`).\n",
    "   - A total of `30` random points are generated within the raster’s row and column limits using `np.random.randint()`."
   ]
  },
  {
   "cell_type": "code",
   "execution_count": null,
   "id": "edcd9771",
   "metadata": {},
   "outputs": [],
   "source": [
    "# Define the number of points to extract\n",
    "n_points = 30\n",
    "\n",
    "# Generate random row and column indices within the DEM dimensions\n",
    "np.random.seed(42) # Set a random seed for reproducibility\n",
    "row_ids = np.random.randint(0, nrows, n_points) # generate random integer values\n",
    "col_ids = np.random.randint(0, ncols, n_points) # generate random integer values"
   ]
  },
  {
   "cell_type": "markdown",
   "id": "070a7f2f",
   "metadata": {},
   "source": [
    "### 3. Extract Elevation Values\n",
    "   - Using the randomly generated coordinates, elevation values are retrieved from the `dem` array."
   ]
  },
  {
   "cell_type": "code",
   "execution_count": null,
   "id": "286bec03",
   "metadata": {},
   "outputs": [],
   "source": [
    "# Extract elevation values at the randomly selected points\n",
    "elevations = dem[row_ids, col_ids]\n",
    "print(elevations)"
   ]
  },
  {
   "cell_type": "markdown",
   "id": "27a7573c",
   "metadata": {},
   "source": [
    "### 4. Extract the UTM coordinates\n",
    "To transform the `row_coords` and `col_coords` into UTM latitude and longitude values, you can use the raster's transformation matrix. Rasterio provides a `transform` attribute. This allows you to map row and column coordinates (which correspond to pixel positions in the raster) into geospatial coordinates (latitude and longitude).\n",
    "\n",
    "The general formula to convert row and column indices into geographic UTM coordinates is:\n",
    "\n",
    "$\n",
    "\\text{longitude} = \\text{transform}[0] \\times \\text{col} + \\text{transform}[2]\n",
    "$\n",
    "\n",
    "$\n",
    "\\text{latitude} = \\text{transform}[4] \\times \\text{row} + \\text{transform}[5]\n",
    "$\n",
    "\n",
    "- `transform[0]` corresponds to the pixel width in geographic coordinates (longitude), and `transform[2]` is the longitude of the upper-left corner of the raster.\n",
    "- `transform[4]` corresponds to the pixel height (negative value for north-to-south coordinate systems), and `transform[5]` is the latitude of the upper-left corner of the raster."
   ]
  },
  {
   "cell_type": "code",
   "execution_count": null,
   "id": "cc429fea",
   "metadata": {},
   "outputs": [],
   "source": [
    "transform = raster.transform\n",
    "\n",
    "# Convert row/col coordinates to latitude/longitude using the affine transform\n",
    "lats, lons = [], []\n",
    "for i in range(n_points):\n",
    "    lon = transform[0] * col_ids[i] + transform[2]\n",
    "    lat = transform[4] * row_ids[i] + transform[5]\n",
    "    lats.append(lat)\n",
    "    lons.append(lon)\n",
    "print(lats)\n",
    "print(lons)"
   ]
  },
  {
   "cell_type": "markdown",
   "id": "8a8b6f31",
   "metadata": {},
   "source": [
    "### 5. Plot the DEM and Sample Points\n",
    "   - The DEM is displayed using a terrain colormap (`cmap='terrain'`).\n",
    "   - The extracted elevation points are overlaid on the DEM using `plt.scatter()`, with colors representing their elevation values.\n",
    "   - A color bar, legend, and title are added for clarity."
   ]
  },
  {
   "cell_type": "code",
   "execution_count": null,
   "id": "2d96ece8",
   "metadata": {
    "scrolled": true
   },
   "outputs": [],
   "source": [
    "# Plot DEM with extracted points\n",
    "plt.figure(figsize=(10, 5))\n",
    "plt.imshow(dem, cmap='terrain', origin='upper')\n",
    "plt.scatter(col_ids, row_ids, c=elevations, edgecolor='k', cmap='coolwarm', label='Sample Points')\n",
    "plt.colorbar(label='Elevation (m)')\n",
    "plt.title(f'Extracted Coordinates (n={n_points})')\n",
    "\n",
    "# Add labels for each point\n",
    "for i in range(n_points):\n",
    "    plt.text(col_ids[i], row_ids[i], '('+str(lats[i])+','+str(lons[i])+')', \n",
    "             fontsize=10, ha='right', color='white', weight='bold')\n",
    "    \n",
    "plt.show()"
   ]
  },
  {
   "cell_type": "markdown",
   "id": "4d7debac",
   "metadata": {},
   "source": [
    "### 6. Save the results\n",
    "Now, let's **save** the elevation values as a text file, in this case as 'comma-separated values' (**.csv**) file. For this purpose we can use Numpy"
   ]
  },
  {
   "cell_type": "code",
   "execution_count": null,
   "id": "4e6cef0d",
   "metadata": {},
   "outputs": [],
   "source": [
    "# Stack them column-wise\n",
    "np.savetxt('lat_lon_elev.csv', (lats, lons, elevations))"
   ]
  },
  {
   "cell_type": "markdown",
   "id": "bc4fb81c",
   "metadata": {},
   "source": [
    "Let's make some improvements"
   ]
  },
  {
   "cell_type": "code",
   "execution_count": null,
   "id": "883af2ab",
   "metadata": {},
   "outputs": [],
   "source": [
    "# Stack them column-wise\n",
    "data = np.column_stack((lats, lons, elevations))\n",
    "np.savetxt('lat_lon_elev.csv', data, header=\"lat,lon,elev\",delimiter = ',')"
   ]
  },
  {
   "cell_type": "markdown",
   "id": "d4b26ccb",
   "metadata": {},
   "source": [
    "Or even better, let's use the library **Pandas** and save it as an Excel file"
   ]
  },
  {
   "cell_type": "code",
   "execution_count": null,
   "id": "cb68afca",
   "metadata": {},
   "outputs": [],
   "source": [
    "import pandas as pd\n",
    "df = pd.DataFrame(lats, columns = ['lat'])\n",
    "df.head()"
   ]
  },
  {
   "cell_type": "code",
   "execution_count": null,
   "id": "1e2a2585",
   "metadata": {},
   "outputs": [],
   "source": [
    "# Let's add two more columns, one for the longitude values and another one for the elevation values\n",
    "df['lon'] = lons\n",
    "df['elev'] = elevations\n",
    "df.head()"
   ]
  },
  {
   "cell_type": "markdown",
   "id": "c09de694",
   "metadata": {},
   "source": [
    "Let's save the dataframe as an **Excel file** (.xlsx)"
   ]
  },
  {
   "cell_type": "code",
   "execution_count": null,
   "id": "2eeb119a",
   "metadata": {},
   "outputs": [],
   "source": [
    "df.to_excel('lat_lon_elev.xlsx')"
   ]
  }
 ],
 "metadata": {
  "kernelspec": {
   "display_name": "Python 3 (ipykernel)",
   "language": "python",
   "name": "python3"
  },
  "language_info": {
   "codemirror_mode": {
    "name": "ipython",
    "version": 3
   },
   "file_extension": ".py",
   "mimetype": "text/x-python",
   "name": "python",
   "nbconvert_exporter": "python",
   "pygments_lexer": "ipython3",
   "version": "3.8.13"
  }
 },
 "nbformat": 4,
 "nbformat_minor": 5
}
