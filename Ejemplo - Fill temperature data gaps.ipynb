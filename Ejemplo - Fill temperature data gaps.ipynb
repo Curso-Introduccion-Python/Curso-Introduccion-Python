{
 "cells": [
  {
   "cell_type": "markdown",
   "id": "4e8a4195",
   "metadata": {},
   "source": [
    "# Using probability distributions to fill the gaps in our climate data\n",
    "<img src=\"util/prob_distrib_weather.png\" style=\"width: 400px; float:right\"><h>When there are gaps in climate data—due to missing records for certain days, months, or locations—we can use probability distributions to estimate the missing information. Probability distributions are mathematical functions that describe how a particular variable, such as temperature or rainfall, is expected to vary based on past observations. By analyzing historical climate data, we can determine the likely patterns and behaviors of these variables.\n",
    "\n",
    "For example, if we have temperature data for several years but lack information for a few specific months, we can use a probability distribution (such as the Normal distribution) to estimate the likely temperature during those missing periods. This approach relies on statistical techniques to create a model that represents how the variable typically behaves, considering factors like seasonality and trends. \n",
    "    \n",
    "In this Notenbook we are going to try to fill the gaps in daily temperature data.\n",
    "\n",
    "## As always, first we need to import the necessary libraries"
   ]
  },
  {
   "cell_type": "code",
   "execution_count": null,
   "id": "64aa28f2",
   "metadata": {},
   "outputs": [],
   "source": [
    "import numpy as np  # for numerical operations, especially with arrays\n",
    "import pandas as pd  # for data manipulation and analysis\n",
    "import matplotlib.pyplot as plt  # for data visualization"
   ]
  },
  {
   "cell_type": "markdown",
   "id": "aeb5213e",
   "metadata": {},
   "source": [
    "## Load climate data with gaps\n",
    "We are going to load the data from excel files, for this purpose we use the Pandas library. The data corresponds to Montefrio (Granada, Spain) and the period 2005-2021."
   ]
  },
  {
   "cell_type": "code",
   "execution_count": null,
   "id": "e3a72769",
   "metadata": {},
   "outputs": [],
   "source": [
    "# Step 1: Load real temperature daily rainfall data\n",
    "temp_data = pd.read_excel('datos/Daily_Temp_2005_2021.xlsx',index_col=0)\n",
    "temp_data.head()"
   ]
  },
  {
   "cell_type": "code",
   "execution_count": null,
   "id": "70655bc1",
   "metadata": {},
   "outputs": [],
   "source": [
    "temp_data.index"
   ]
  },
  {
   "cell_type": "code",
   "execution_count": null,
   "id": "3137401d",
   "metadata": {},
   "outputs": [],
   "source": [
    "# Plot temperature data\n",
    "plt.figure(figsize = (15,4))\n",
    "plt.plot(temp_data.index,temp_data['temp'])"
   ]
  },
  {
   "cell_type": "markdown",
   "id": "822183fa",
   "metadata": {},
   "source": [
    "## Fill the gaps\n",
    "### A. First method: mean value\n",
    "First of all, we need to find the NaN values"
   ]
  },
  {
   "cell_type": "code",
   "execution_count": null,
   "id": "3254e3af",
   "metadata": {},
   "outputs": [],
   "source": [
    "temp_data['temp'].isnull()"
   ]
  },
  {
   "cell_type": "code",
   "execution_count": null,
   "id": "0f5a755d",
   "metadata": {},
   "outputs": [],
   "source": [
    "missing_temp_dates = temp_data[temp_data['temp'].isnull()].index\n",
    "missing_temp_dates"
   ]
  },
  {
   "cell_type": "code",
   "execution_count": null,
   "id": "3f2f0caa",
   "metadata": {},
   "outputs": [],
   "source": [
    "mean_temp = np.mean(temp_data['temp'])\n",
    "print(mean_temp)"
   ]
  },
  {
   "cell_type": "code",
   "execution_count": null,
   "id": "390c8b3b",
   "metadata": {},
   "outputs": [],
   "source": [
    "filled_temp_data = temp_data.copy()\n",
    "filled_temp_data.loc[missing_temp_dates, 'temp'] = mean_temp"
   ]
  },
  {
   "cell_type": "code",
   "execution_count": null,
   "id": "87e060ce",
   "metadata": {},
   "outputs": [],
   "source": [
    "# Plot the filled temperature data\n",
    "plt.figure(figsize = (15,4))\n",
    "plt.plot(filled_temp_data.index,filled_temp_data['temp'])\n",
    "plt.title('Method 1: mean temperature')\n",
    "plt.ylabel('degC')"
   ]
  },
  {
   "cell_type": "markdown",
   "id": "e81612a1",
   "metadata": {},
   "source": [
    "### B. Second method: random normal values\n",
    "<img src=\"util/normal_distribution.png\" style=\"width: 400px; float:right\"><h>\n",
    "    \n",
    "Temperature data is often symmetrically distributed around a central value, which makes the normal (Gaussian) distribution a suitable candidate. This distribution is particularly useful for modeling daily temperatures, which tend to **vary within a relatively narrow range around a seasonal average**.\n",
    "\n",
    "The probability density function (PDF) of a normal distribution is given by:\n",
    "\n",
    "$\n",
    "f(x; \\mu, \\sigma) = \\frac{1}{\\sqrt{2 \\pi \\sigma^2}} e^{-\\frac{(x - \\mu)^2}{2 \\sigma^2}}\n",
    "$\n",
    "\n",
    "Where:\n",
    "- $ x $ is the temperature,\n",
    "- $ \\mu $ is the mean (average temperature),\n",
    "- $ \\sigma $ is the standard deviation, indicating the typical variability around the mean.\n",
    "\n",
    "### Why Normal Distribution?\n",
    "\n",
    "1. **Symmetric values:** Temperature data typically exhibits a symmetric distribution around an average, making the normal distribution an appropriate model.\n",
    "2. **Central tendency:** The normal distribution captures the tendency of temperature values to cluster around a central value, with decreasing probabilities as values move farther from the mean.\n",
    "3. **Flexible variability:** With its two parameters (mean and standard deviation), the normal distribution can represent different climates and seasonal variations in temperature data, adapting to both average levels and fluctuations."
   ]
  },
  {
   "cell_type": "code",
   "execution_count": null,
   "id": "86cc1034",
   "metadata": {},
   "outputs": [],
   "source": [
    "std_temp = np.std(temp_data['temp'])\n",
    "print(std_temp)"
   ]
  },
  {
   "cell_type": "code",
   "execution_count": null,
   "id": "9c5e0cd5",
   "metadata": {},
   "outputs": [],
   "source": [
    "for i in range(len(temp_data)):\n",
    "    if np.isnan(temp_data['temp'][i]):\n",
    "        random_temp = np.random.normal(mean_temp,std_temp)\n",
    "        filled_temp_data['temp'][i] = random_temp     "
   ]
  },
  {
   "cell_type": "code",
   "execution_count": null,
   "id": "7fbfbc18",
   "metadata": {},
   "outputs": [],
   "source": [
    "# Plot the filled temperature data\n",
    "plt.figure(figsize = (15,4))\n",
    "plt.plot(filled_temp_data.index,filled_temp_data['temp'])\n",
    "plt.title('Method 2: random normal values')\n",
    "plt.ylabel('degC')"
   ]
  },
  {
   "cell_type": "markdown",
   "id": "d9cbbd45",
   "metadata": {},
   "source": [
    "The normal distribution is often a good fit for filling gaps in daily mean temperature data, but it’s not always perfect. Daily mean temperatures tend to follow a pattern that can approximate a bell curve, especially over short time periods, like a single season. This means the normal distribution can capture the average and variability reasonably well.\n",
    "\n",
    "Fitting a normal distribution to the entire temperature data has some limitations because real daily temperatures usually show a cycle that follows the seasons, which isn’t captured well by a single normal distribution. For example, summer temperatures tend to be warmer, and winter temperatures cooler."
   ]
  },
  {
   "cell_type": "markdown",
   "id": "597ff3d0",
   "metadata": {},
   "source": [
    "### C. Third method: monthly mean value"
   ]
  },
  {
   "cell_type": "code",
   "execution_count": null,
   "id": "76c35931",
   "metadata": {},
   "outputs": [],
   "source": [
    "monthly_mean_temp = np.zeros(12)\n",
    "\n",
    "for m in np.arange(12):\n",
    "    # Calculate the mean temperature for each month (m+1)\n",
    "    monthly_mean_temp[m] = temp_data[temp_data.index.month == m + 1]['temp'].mean()\n",
    "    print(f'for the month {m+1} the mean temperature = {monthly_mean_temp[m]:.2f}')"
   ]
  },
  {
   "cell_type": "code",
   "execution_count": null,
   "id": "c6b43dde",
   "metadata": {},
   "outputs": [],
   "source": [
    "monthly_mean_temp"
   ]
  },
  {
   "cell_type": "code",
   "execution_count": null,
   "id": "42e5189b",
   "metadata": {},
   "outputs": [],
   "source": [
    "filled_temp_data = temp_data.copy()\n",
    "for i in range(len(temp_data)):\n",
    "    if np.isnan(temp_data['temp'][i]):\n",
    "        month = temp_data.index[i].month\n",
    "        filled_temp_data['temp'][i] = monthly_mean_temp[month-1]     "
   ]
  },
  {
   "cell_type": "code",
   "execution_count": null,
   "id": "90158c1d",
   "metadata": {},
   "outputs": [],
   "source": [
    "# Plot the filled temperature data\n",
    "plt.figure(figsize = (15,4))\n",
    "plt.plot(filled_temp_data.index,filled_temp_data['temp'])\n",
    "plt.title('Method 3: monthly mean temperature')\n",
    "plt.ylabel('degC')"
   ]
  },
  {
   "cell_type": "markdown",
   "id": "7ebb2616",
   "metadata": {},
   "source": [
    "### D. Forth method: monthly random normal values"
   ]
  },
  {
   "cell_type": "code",
   "execution_count": null,
   "id": "d69513b6",
   "metadata": {},
   "outputs": [],
   "source": [
    "monthly_std_temp = np.zeros(12)\n",
    "\n",
    "for m in np.arange(12):\n",
    "    # Calculate the standard deviation of the temperature for each month (m+1)\n",
    "    monthly_std_temp[m] = temp_data[temp_data.index.month == m + 1]['temp'].std()\n",
    "    print(f'for the month {m+1} the standard deviation = {monthly_std_temp[m]:.2f}')"
   ]
  },
  {
   "cell_type": "code",
   "execution_count": null,
   "id": "2b49927a",
   "metadata": {},
   "outputs": [],
   "source": [
    "for i in range(len(temp_data)):\n",
    "    if np.isnan(temp_data['temp'][i]):\n",
    "        month = temp_data.index[i].month\n",
    "        random_temp = np.random.normal(monthly_mean_temp[month-1],monthly_std_temp[month-1])\n",
    "        filled_temp_data['temp'][i] = random_temp"
   ]
  },
  {
   "cell_type": "code",
   "execution_count": null,
   "id": "5a505604",
   "metadata": {},
   "outputs": [],
   "source": [
    "# Plot the filled temperature data\n",
    "plt.figure(figsize = (15,4))\n",
    "plt.plot(filled_temp_data.index,filled_temp_data['temp'])\n",
    "plt.title('Method 4: monthly random normal values')\n",
    "plt.ylabel('degC')"
   ]
  },
  {
   "cell_type": "code",
   "execution_count": null,
   "id": "62429a4c",
   "metadata": {},
   "outputs": [],
   "source": []
  }
 ],
 "metadata": {
  "kernelspec": {
   "display_name": "Python 3 (ipykernel)",
   "language": "python",
   "name": "python3"
  },
  "language_info": {
   "codemirror_mode": {
    "name": "ipython",
    "version": 3
   },
   "file_extension": ".py",
   "mimetype": "text/x-python",
   "name": "python",
   "nbconvert_exporter": "python",
   "pygments_lexer": "ipython3",
   "version": "3.9.12"
  },
  "varInspector": {
   "cols": {
    "lenName": 16,
    "lenType": 16,
    "lenVar": 40
   },
   "kernels_config": {
    "python": {
     "delete_cmd_postfix": "",
     "delete_cmd_prefix": "del ",
     "library": "var_list.py",
     "varRefreshCmd": "print(var_dic_list())"
    },
    "r": {
     "delete_cmd_postfix": ") ",
     "delete_cmd_prefix": "rm(",
     "library": "var_list.r",
     "varRefreshCmd": "cat(var_dic_list()) "
    }
   },
   "types_to_exclude": [
    "module",
    "function",
    "builtin_function_or_method",
    "instance",
    "_Feature"
   ],
   "window_display": false
  }
 },
 "nbformat": 4,
 "nbformat_minor": 5
}
