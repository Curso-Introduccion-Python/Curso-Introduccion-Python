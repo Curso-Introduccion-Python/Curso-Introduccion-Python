{
 "cells": [
  {
   "cell_type": "markdown",
   "id": "52a26a77",
   "metadata": {},
   "source": [
    "# Spatial interpolation \n",
    "\n",
    "In this Notebook we are going to extract the elevation of several points randomly and **interactively** selected over a digital elevation model (DEM). Then we are going to do an **spatial interpolation** and evaluate how good this interpolation is.\n",
    "\n",
    "### **Steps**\n",
    "0. **Import the necessary libraries**"
   ]
  },
  {
   "cell_type": "code",
   "execution_count": null,
   "id": "4d7e9c64",
   "metadata": {},
   "outputs": [],
   "source": [
    "# Import libraries\n",
    "import numpy as np  # Import the NumPy library for numerical operations, particularly for arrays.\n",
    "import rasterio  # Import the rasterio library for reading and writing geospatial raster data (like GeoTIFFs).\n",
    "import matplotlib.pyplot as plt  # Import matplotlib's pyplot module for creating plots and visualizations.\n",
    "from ipywidgets import interact # create interactive controls (like sliders, dropdowns, etc.)\n",
    "from scipy import interpolate # interpolate spatially"
   ]
  },
  {
   "cell_type": "markdown",
   "id": "224a08af",
   "metadata": {},
   "source": [
    "1. **Load the DEM Raster**  \n",
    "   - The code uses `rasterio` to open a DEM stored in `'datos/dem.tif'`.\n",
    "   - The DEM is read as a 2D NumPy array (`dem`) representing elevation values."
   ]
  },
  {
   "cell_type": "code",
   "execution_count": null,
   "id": "a452cc87",
   "metadata": {},
   "outputs": [],
   "source": [
    "# Open the Digital Elevation Model (DEM) raster file\n",
    "raster = rasterio.open('datos/dem.tif')\n",
    "\n",
    "# Read the first band of the DEM (assuming it's a single-band raster)\n",
    "dem = raster.read(1)  # Extracts a 2D array representing elevation values\n",
    "\n",
    "# Get the number of rows and columns in the DEM\n",
    "n_rows, n_cols = dem.shape"
   ]
  },
  {
   "cell_type": "markdown",
   "id": "5ec64906",
   "metadata": {},
   "source": [
    "2. **Random Points Generation**  "
   ]
  },
  {
   "cell_type": "code",
   "execution_count": null,
   "id": "b8068f97",
   "metadata": {},
   "outputs": [],
   "source": [
    "# Define the number of points to extract\n",
    "n_points = 30\n",
    "\n",
    "# Generate random row and column indices within the DEM dimensions\n",
    "np.random.seed(42)\n",
    "rows = np.random.randint(0, n_rows, n_points)  # Random row indices\n",
    "cols = np.random.randint(0, n_cols, n_points)  # Random column indices"
   ]
  },
  {
   "cell_type": "markdown",
   "id": "c3413046",
   "metadata": {},
   "source": [
    "3. **Extract Elevation Values**  \n",
    "   - Using the randomly generated coordinates, elevation values are retrieved from the `dem` array."
   ]
  },
  {
   "cell_type": "code",
   "execution_count": null,
   "id": "8b668b28",
   "metadata": {},
   "outputs": [],
   "source": [
    "# Extract elevation values at the randomly selected points\n",
    "elevations = dem[rows, cols]"
   ]
  },
  {
   "cell_type": "markdown",
   "id": "ebfad1be",
   "metadata": {},
   "source": [
    "4. **Interpolate the elevation values**\n",
    "This code performs **spatial interpolation** to create a gridded representation of elevation data using the **nearest-neighbor** method. Here's a step-by-step breakdown:\n",
    "\n",
    "    4.1. Create a Grid of Coordinates"
   ]
  },
  {
   "cell_type": "code",
   "execution_count": null,
   "id": "f3b75eb9",
   "metadata": {},
   "outputs": [],
   "source": [
    "grid_x, grid_y = np.meshgrid(np.arange(0, n_rows), np.arange(0, n_cols), indexing='ij')"
   ]
  },
  {
   "cell_type": "markdown",
   "id": "f40d1c67",
   "metadata": {},
   "source": [
    "- `np.meshgrid()` generates a 2D coordinate grid covering the range `[0, n_rows-1]` (rows) and `[0, n_cols-1]` (columns).\n",
    "- The `indexing='ij'` option ensures that the first index corresponds to rows and the second to columns (matrix-style indexing).\n",
    "\n",
    "    4.2. Interpolate Elevation Data"
   ]
  },
  {
   "cell_type": "code",
   "execution_count": null,
   "id": "61cb3349",
   "metadata": {},
   "outputs": [],
   "source": [
    "dem_inter = interpolate.griddata(np.column_stack([rows, cols]), elevations, (grid_x, grid_y), method='nearest')"
   ]
  },
  {
   "cell_type": "markdown",
   "id": "542982c4",
   "metadata": {},
   "source": [
    "- `rows`, `cols`: Arrays containing the coordinates of known elevation points.\n",
    "- `elevations`: Array of known elevation values at these points.\n",
    "- `np.column_stack([rows, cols])`: Combines `rows` and `cols` into a 2D array of (x, y) coordinate pairs.\n",
    "- `griddata()` interpolates the elevation values to the entire `(grid_x, grid_y)` grid using the **nearest-neighbor** method.\n",
    "\n",
    "- `grid_z` is a 2D array representing the interpolated elevation values for each grid point, based on the nearest known data point."
   ]
  },
  {
   "cell_type": "code",
   "execution_count": null,
   "id": "13d8257a",
   "metadata": {
    "scrolled": true
   },
   "outputs": [],
   "source": [
    "# Plot the interpolated DEM with the extracted points\n",
    "plt.figure(figsize=(10, 5))  # Set the figure size\n",
    "plt.imshow(dem_inter, cmap='terrain')  # Display the interpolated DEM using a terrain colormap\n",
    "plt.colorbar(label='Elevation (m)')  # Add a color bar indicating elevation values\n",
    "plt.scatter(cols, rows, edgecolor='k')  \n",
    "# Overlay the randomly selected points, color-coded by elevation\n",
    "plt.title('Extracted Elevation from DEM (n= '+str(n_points)+')')  # Add a title\n",
    "plt.show()  # Display the plot"
   ]
  },
  {
   "cell_type": "markdown",
   "id": "4ce4f7fc",
   "metadata": {},
   "source": [
    "### How about making our code and figures more interactive?\n",
    "Here we are going to create an **interactive figure** so we can select the number of sampling points using a slider"
   ]
  },
  {
   "cell_type": "code",
   "execution_count": null,
   "id": "94922e22",
   "metadata": {},
   "outputs": [],
   "source": [
    "from ipywidgets import interact\n",
    "\n",
    "# Extract elevation at given points\n",
    "def interactive_extract_elevation(n_points):\n",
    "    \n",
    "    \"\"\"\n",
    "    Generates random points within the DEM and extracts elevation values.\n",
    "    Displays:\n",
    "    1. The DEM with sampled elevation points.\n",
    "    \n",
    "    Parameters:\n",
    "    - n_points (int): Number of random points to extract.\n",
    "    \"\"\"\n",
    "\n",
    "    # Generate random row and column indices within the DEM dimensions\n",
    "    np.random.seed(42)\n",
    "    rows = np.random.randint(0, n_rows, n_points)  # Random row indices\n",
    "    cols = np.random.randint(0, n_cols, n_points)  # Random column indices\n",
    "\n",
    "    # Extract elevation values at the randomly selected points\n",
    "    elevations = dem[rows, cols]\n",
    "    \n",
    "    # Spatial interpolation\n",
    "    grid_x, grid_y = np.meshgrid(np.arange(0, n_rows), np.arange(0, n_cols), indexing='ij')\n",
    "    dem_inter = interpolate.griddata(np.column_stack([rows, cols]), elevations, (grid_x, grid_y), method='nearest')\n",
    "\n",
    "    # Plot the DEM with the extracted points\n",
    "    plt.figure(figsize=(10, 5))  # Set the figure size\n",
    "    plt.imshow(dem_inter, cmap='terrain')  # Display the DEM using a terrain colormap\n",
    "    plt.colorbar(label='Elevation (m)')  # Add a color bar indicating elevation values\n",
    "    plt.scatter(cols, rows, edgecolor='k')  \n",
    "    # Overlay the randomly selected points, color-coded by elevation\n",
    "    plt.title('Extracted Elevation from DEM (n= '+str(n_points)+')')  # Add a title\n",
    "    plt.show()  # Display the plot\n",
    "\n",
    "# Interactive widget for number of points\n",
    "interact(interactive_extract_elevation, n_points=(1, 500))\n"
   ]
  },
  {
   "cell_type": "markdown",
   "id": "6df5d3d0",
   "metadata": {},
   "source": [
    "### Let's add the histogram as well! \n",
    "To show both plots next to each other we need to use a Matplotlib function called `subplots`"
   ]
  },
  {
   "cell_type": "code",
   "execution_count": null,
   "id": "ec4875a9",
   "metadata": {},
   "outputs": [],
   "source": [
    "def interactive_extract_elevation(n_points, n_bins):\n",
    "    \"\"\"\n",
    "    Generates random points within the DEM and extracts elevation values.\n",
    "    Displays:\n",
    "    1. The DEM with sampled elevation points.\n",
    "    2. A histogram of the sampled elevation values.\n",
    "    \n",
    "    Parameters:\n",
    "    - n_points (int): Number of random points to extract.\n",
    "    \"\"\"\n",
    "\n",
    "    # Generate random row and column indices within the DEM dimensions\n",
    "    np.random.seed(42)\n",
    "    rows = np.random.randint(0, n_rows, n_points)  # Random row indices\n",
    "    cols = np.random.randint(0, n_cols, n_points)  # Random column indices\n",
    "\n",
    "    # Extract elevation values at the randomly selected points\n",
    "    elevations = dem[rows, cols]\n",
    "    \n",
    "    # Spatial interpolation\n",
    "    grid_x, grid_y = np.meshgrid(np.arange(0, n_rows), np.arange(0, n_cols), indexing='ij')\n",
    "    dem_inter = interpolate.griddata(np.column_stack([rows, cols]), elevations, (grid_x, grid_y), method='nearest')\n",
    "\n",
    "    # Create a figure with two subplots\n",
    "    fig, axes = plt.subplots(1, 2, figsize=(17, 5))\n",
    "\n",
    "    # Plot the DEM with the extracted points\n",
    "    axes[0].imshow(dem_inter, cmap='terrain')\n",
    "    axes[0].scatter(cols, rows, edgecolor='k')  \n",
    "    axes[0].set_title('Extracted Elevation from DEM (n= '+str(n_points)+')')\n",
    "\n",
    "    # Plot histogram of the extracted elevation values\n",
    "    axes[1].hist(elevations, bins=n_bins, color='skyblue', edgecolor='black')\n",
    "    axes[1].set_xlabel('Elevation (m)')\n",
    "    axes[1].set_ylabel('Frequency')\n",
    "    axes[1].set_title('Histogram of Extracted Elevation Values')\n",
    "\n",
    "    plt.show()  # Display the plots\n",
    "\n",
    "# Create an interactive widget to select the number of points\n",
    "interact(interactive_extract_elevation, n_points=(1, 500), n_bins = (10,100))\n"
   ]
  },
  {
   "cell_type": "markdown",
   "id": "2e9a6319",
   "metadata": {},
   "source": [
    "### Let's compare the variograms of the sampling point values vs the variogram of the entire DEM"
   ]
  },
  {
   "cell_type": "code",
   "execution_count": null,
   "id": "a48f95b1",
   "metadata": {},
   "outputs": [],
   "source": [
    "def interactive_extract_elevation(n_points):\n",
    "    \"\"\"\n",
    "    Generates random points within the DEM and extracts elevation values.\n",
    "    Displays:\n",
    "    1. The DEM with sampled elevation points.\n",
    "    2. The histograms of the sampled elevation values vs the original DEM \n",
    "    \n",
    "    Parameters:\n",
    "    - n_points (int): Number of random points to extract.\n",
    "    \"\"\"\n",
    "\n",
    "    # Generate random row and column indices within the DEM dimensions\n",
    "    np.random.seed(42)\n",
    "    rows = np.random.randint(0, n_rows, n_points)  # Random row indices\n",
    "    cols = np.random.randint(0, n_cols, n_points)  # Random column indices\n",
    "\n",
    "    # Extract elevation values at the randomly selected points\n",
    "    elevations = dem[rows, cols]\n",
    "\n",
    "    # Spatial interpolation\n",
    "    grid_x, grid_y = np.meshgrid(np.arange(0, n_rows), np.arange(0, n_cols), indexing='ij')\n",
    "    dem_inter = interpolate.griddata(np.column_stack([rows, cols]), elevations, (grid_x, grid_y), method='nearest')\n",
    "\n",
    "    # Create a figure with two subplots\n",
    "    fig, axes = plt.subplots(2, 2, figsize=(17, 10))\n",
    "\n",
    "    # Plot the DEM with the extracted points\n",
    "    axes[0,0].imshow(dem, cmap='terrain')\n",
    "    axes[0,0].set_title('Extracted Elevation from DEM (n= '+str(n_points)+')')\n",
    "    \n",
    "    # Plot histogram of the extracted elevation values\n",
    "    axes[0,1].hist(elevations, bins=50, color='skyblue', edgecolor='black', density = True)\n",
    "    axes[0,1].hist(dem.flatten(),bins = 50,histtype='step', density = True, label = 'DEM')\n",
    "    axes[0,1].set_xlabel('Elevation (m)')\n",
    "    axes[0,1].set_ylabel('Density')\n",
    "    axes[0,1].set_title('Histogram of Extracted Elevation Values vs DEM histogram')\n",
    "    axes[0,1].set_ylim([0,0.025])\n",
    "\n",
    "    axes[1,0].imshow(dem_inter, cmap='terrain')\n",
    "    axes[1,0].set_title('Interpolated DEM')\n",
    "    axes[1,0].scatter(cols, rows, edgecolor='k', alpha = 0.5)\n",
    "  \n",
    "    plt.show()  # Display the plots\n",
    "\n",
    "# Create an interactive widget to select the number of points\n",
    "interact(interactive_extract_elevation, n_points=(1, 500))\n"
   ]
  },
  {
   "cell_type": "markdown",
   "id": "5491398e",
   "metadata": {},
   "source": [
    "## Interactive spatial interpolation + evaluation\n",
    "Let's visualize and **evaluate** the spatial interpolation that we can obtain for different numbers of random sampling points. For this purpose we will use the **Mean Absolute Error (MAE)**. The MAE measures the average absolute difference between the original DEM and the interpolated DEM.  A lower MAE indicates a better interpolation."
   ]
  },
  {
   "cell_type": "code",
   "execution_count": null,
   "id": "00d7536d",
   "metadata": {},
   "outputs": [],
   "source": [
    "def interactive_interpolation(n_points):\n",
    "    \"\"\"\n",
    "    Generates random points within the DEM and extracts elevation values.\n",
    "    Displays:\n",
    "    1. The DEM with sampled elevation points.\n",
    "    2. The histograms of the sampled elevation values vs the original DEM \n",
    "    3. The interpolated DEM\n",
    "    4. The difference between the original DEM and the interpolated DEM\n",
    "    \n",
    "    Parameters:\n",
    "    - n_points (int): Number of random points to extract.\n",
    "    \"\"\"\n",
    "\n",
    "    # Generate random row and column indices within the DEM dimensions\n",
    "    np.random.seed(42)\n",
    "    rows = np.random.randint(0, n_rows, n_points)  # Random row indices\n",
    "    cols = np.random.randint(0, n_cols, n_points)  # Random column indices\n",
    "\n",
    "    # Extract elevation values at the randomly selected points\n",
    "    elevations = dem[rows, cols]\n",
    "    \n",
    "    # Spatial interpolation\n",
    "    grid_x, grid_y = np.meshgrid(np.arange(0, n_rows), np.arange(0, n_cols), indexing='ij')\n",
    "    grid_z = interpolate.griddata(np.column_stack([rows, cols]), elevations, (grid_x, grid_y), method='nearest')\n",
    "\n",
    "    # Create a figure with two subplots\n",
    "    fig, axes = plt.subplots(2, 2, figsize=(17, 10))\n",
    "\n",
    "    # Plot the DEM with the extracted points\n",
    "    axes[0,0].imshow(dem, cmap='terrain')\n",
    "    axes[0,0].set_title('Extracted Elevation from DEM (n= '+str(n_points)+')')\n",
    "    \n",
    "    # Plot histogram of the extracted elevation values\n",
    "    axes[0,1].hist(elevations, bins=50, color='skyblue', edgecolor='black', density = True)\n",
    "    axes[0,1].hist(dem.flatten(),bins = 50,histtype='step', density = True, label = 'DEM')\n",
    "    axes[0,1].set_xlabel('Elevation (m)')\n",
    "    axes[0,1].set_ylabel('Density')\n",
    "    axes[0,1].set_title('Histogram of Extracted Elevation Values vs DEM histogram')\n",
    "    axes[0,1].set_ylim([0,0.025])\n",
    "\n",
    "    axes[1,0].imshow(grid_z, cmap='terrain')\n",
    "    axes[1,0].set_title('Interpolated DEM')\n",
    "    axes[1,0].scatter(cols, rows, edgecolor='k', alpha = 0.5)\n",
    "    plot4 = axes[1,1].imshow(dem-grid_z, cmap='terrain',vmin=-10,vmax=10)\n",
    "    # Mean absolute error\n",
    "    MAE = np.nanmean(np.abs(dem-grid_z))\n",
    "    axes[1,1].set_title(f'Mean absolute error (Original vs Interpolated DEM) = {MAE:.2f}') \n",
    "    plt.colorbar(plot4)\n",
    "    plt.show()  # Display the plots\n",
    "\n",
    "# Create an interactive widget to select the number of points\n",
    "interact(interactive_interpolation, n_points=(10, 500))"
   ]
  },
  {
   "cell_type": "markdown",
   "id": "c9d80ac7",
   "metadata": {},
   "source": [
    "### Let's compare different interpolation methods"
   ]
  },
  {
   "cell_type": "code",
   "execution_count": null,
   "id": "7965aacd",
   "metadata": {
    "scrolled": false
   },
   "outputs": [],
   "source": [
    "def interactive_interpolation(n_points, interp_method):\n",
    "    \"\"\"\n",
    "    Generates random points within the DEM and extracts elevation values.\n",
    "    Displays:\n",
    "    1. The DEM with sampled elevation points.\n",
    "    2. The histograms of the sampled elevation values vs the original DEM \n",
    "    3. The interpolated DEM\n",
    "    4. The difference between the original DEM and the interpolated DEM\n",
    "    \n",
    "    Parameters:\n",
    "    - n_points (int): Number of random points to extract.\n",
    "    - interp_method (str): Interpolation method to apply\n",
    "    \"\"\"\n",
    "\n",
    "    # Generate random row and column indices within the DEM dimensions\n",
    "    np.random.seed(42)\n",
    "    rows = np.random.randint(0, n_rows, n_points)  # Random row indices\n",
    "    cols = np.random.randint(0, n_cols, n_points)  # Random column indices\n",
    "\n",
    "    # Extract elevation values at the randomly selected points\n",
    "    elevations = dem[rows, cols]\n",
    "    \n",
    "    grid_x, grid_y = np.meshgrid(np.arange(0, n_rows), np.arange(0, n_cols), indexing='ij')\n",
    "    grid_z = interpolate.griddata(np.column_stack([rows, cols]), elevations, (grid_x, grid_y), method= interp_method)\n",
    "\n",
    "    # Create a figure with two subplots\n",
    "    fig, axes = plt.subplots(2, 2, figsize=(17, 10))\n",
    "\n",
    "    # Plot the DEM with the extracted points\n",
    "    axes[0,0].imshow(dem, cmap='terrain')\n",
    "    axes[0,0].set_title('Extracted Elevation from DEM (n= '+str(n_points)+')')\n",
    "    \n",
    "    # Plot histogram of the extracted elevation values\n",
    "    axes[0,1].hist(elevations, bins=50, color='skyblue', edgecolor='black', density = True)\n",
    "    axes[0,1].hist(dem.flatten(),bins = 50,histtype='step', density = True, label = 'DEM')\n",
    "    axes[0,1].set_xlabel('Elevation (m)')\n",
    "    axes[0,1].set_ylabel('Density')\n",
    "    axes[0,1].set_title('Histogram of Extracted Elevation Values vs DEM histogram')\n",
    "    axes[0,1].set_ylim([0,0.025])\n",
    "\n",
    "    axes[1,0].imshow(grid_z, cmap='terrain')\n",
    "    axes[1,0].set_title('Interpolated DEM')\n",
    "    axes[1,0].scatter(cols, rows, edgecolor='k', alpha = 0.1)\n",
    "    plot4 = axes[1,1].imshow(dem-grid_z, cmap='terrain',vmin=-10,vmax=10)\n",
    "    MAE = np.nanmean(np.abs(dem-grid_z))\n",
    "    axes[1,1].set_title(f'MAE = {MAE:.2f}')    \n",
    "    plt.colorbar(plot4)\n",
    "    plt.show()  # Display the plots\n",
    "\n",
    "# Create an interactive widget to select the number of points\n",
    "interact(interactive_interpolation, n_points=(10, 5000), interp_method = (['nearest', 'linear', 'cubic']))"
   ]
  },
  {
   "cell_type": "code",
   "execution_count": null,
   "id": "b576b85e",
   "metadata": {},
   "outputs": [],
   "source": []
  }
 ],
 "metadata": {
  "kernelspec": {
   "display_name": "Python 3 (ipykernel)",
   "language": "python",
   "name": "python3"
  },
  "language_info": {
   "codemirror_mode": {
    "name": "ipython",
    "version": 3
   },
   "file_extension": ".py",
   "mimetype": "text/x-python",
   "name": "python",
   "nbconvert_exporter": "python",
   "pygments_lexer": "ipython3",
   "version": "3.8.13"
  },
  "varInspector": {
   "cols": {
    "lenName": 16,
    "lenType": 16,
    "lenVar": 40
   },
   "kernels_config": {
    "python": {
     "delete_cmd_postfix": "",
     "delete_cmd_prefix": "del ",
     "library": "var_list.py",
     "varRefreshCmd": "print(var_dic_list())"
    },
    "r": {
     "delete_cmd_postfix": ") ",
     "delete_cmd_prefix": "rm(",
     "library": "var_list.r",
     "varRefreshCmd": "cat(var_dic_list()) "
    }
   },
   "types_to_exclude": [
    "module",
    "function",
    "builtin_function_or_method",
    "instance",
    "_Feature"
   ],
   "window_display": false
  }
 },
 "nbformat": 4,
 "nbformat_minor": 5
}
