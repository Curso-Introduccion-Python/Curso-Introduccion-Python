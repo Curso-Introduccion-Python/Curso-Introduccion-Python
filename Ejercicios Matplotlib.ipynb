{
 "cells": [
  {
   "cell_type": "markdown",
   "metadata": {},
   "source": [
    "# Ejercicios - Matplotlib\n",
    "Ahora que hemos aprendido algunos conceptos basicos de la libreria Matplotlib, vamos a hacer unos cuantos ejercicios, para refrescar ideas (tanto de Matplotlib como de Numpy y Pandas) y para comprobar que habeis entendido estos conceptos.\n",
    "### 1. Importa las librerías Numpy, Pandas y el modulo `pyplot` de Matplotlib."
   ]
  },
  {
   "cell_type": "code",
   "execution_count": null,
   "metadata": {},
   "outputs": [],
   "source": []
  },
  {
   "cell_type": "markdown",
   "metadata": {},
   "source": [
    "### 2. Usando la funcion `read_csv` de Pandas, importa los datos que hay en el archivo `'datos/temp_1659_2016.csv'` y dale el nombre `temp`. Importante: haz que la primera columna sea el indice usando el parametro `index_col` de la funcion `read_csv`"
   ]
  },
  {
   "cell_type": "code",
   "execution_count": null,
   "metadata": {},
   "outputs": [],
   "source": []
  },
  {
   "cell_type": "markdown",
   "metadata": {},
   "source": [
    "### 3. Con la funcion `.head` de Pandas imprime en pantalla las 5 primeras lineas del dataframe `temp` "
   ]
  },
  {
   "cell_type": "code",
   "execution_count": null,
   "metadata": {},
   "outputs": [],
   "source": []
  },
  {
   "cell_type": "markdown",
   "metadata": {},
   "source": [
    "### 4. Con la funcion `plot` de Matplotlib crea una grafica de la temperatura en el mes de enero (columna 'Jan') y pon la siguiente etiqueta al eje y: 'Temperature (degC)'\n",
    "Recuerda la ultima linea de codigo debe ser `plt.show()`"
   ]
  },
  {
   "cell_type": "code",
   "execution_count": null,
   "metadata": {},
   "outputs": [],
   "source": []
  },
  {
   "cell_type": "markdown",
   "metadata": {},
   "source": [
    "Gracias a que el indice del dataframe (index) son los años, al crear la grafica, Matplotlib automaticamente pone los valores de los años en el eje x."
   ]
  },
  {
   "cell_type": "markdown",
   "metadata": {},
   "source": [
    "### 5. Ahora crea una grafica con la temperatura de enero y julio."
   ]
  },
  {
   "cell_type": "code",
   "execution_count": null,
   "metadata": {},
   "outputs": [],
   "source": []
  },
  {
   "cell_type": "markdown",
   "metadata": {},
   "source": [
    "### 6. Con la funcion `arange` de NumPy crea un array con los valores comprendidos entre $-\\pi$ y $\\pi$ con intervalos (step) de $\\pi/100$. Llama a dicho array X.\n",
    "Usa `np.pi` para obtener el valor de $\\pi$"
   ]
  },
  {
   "cell_type": "code",
   "execution_count": null,
   "metadata": {},
   "outputs": [],
   "source": []
  },
  {
   "cell_type": "markdown",
   "metadata": {},
   "source": [
    "### 7. Crea una grafica con el seno y el coseno de X.\n",
    "Las funciones para calcular el seno y coseno estan disponibles en NumPy."
   ]
  },
  {
   "cell_type": "code",
   "execution_count": null,
   "metadata": {},
   "outputs": [],
   "source": []
  },
  {
   "cell_type": "markdown",
   "metadata": {},
   "source": [
    "### 8. Crea la misma grafica pero ahora cambia el color de las lineas, la del seno en rojo y la del coseno en azul\n",
    "Para ello usa el paramtetro `color` y recuerda poner el nombre del color en ingles"
   ]
  },
  {
   "cell_type": "code",
   "execution_count": null,
   "metadata": {},
   "outputs": [],
   "source": []
  },
  {
   "cell_type": "markdown",
   "metadata": {},
   "source": [
    "### 9. Aumenta el grosor de las lineas a 3 con el parametro `linewidth`"
   ]
  },
  {
   "cell_type": "code",
   "execution_count": null,
   "metadata": {},
   "outputs": [],
   "source": []
  },
  {
   "cell_type": "markdown",
   "metadata": {},
   "source": [
    "### 10. Con el parametro `label` ponle nombre a cada linea y añade la leyenda a la grafica con `plt.legend()`"
   ]
  },
  {
   "cell_type": "code",
   "execution_count": null,
   "metadata": {},
   "outputs": [],
   "source": []
  },
  {
   "cell_type": "markdown",
   "metadata": {},
   "source": [
    "### 10. Volviendo a los datos del array `temp`, crea una grafica de los meses de enero, julio y ademas de la ultima columna llamada `'YEAR'`. La linea del mes de enero dibujala en naranja, la de julio en azul y a la linea correspondiente a `'YEAR'` cambiale el estilo a linea punteada con el parametro `linestyle`"
   ]
  },
  {
   "cell_type": "code",
   "execution_count": null,
   "metadata": {},
   "outputs": [],
   "source": []
  },
  {
   "cell_type": "markdown",
   "metadata": {},
   "source": [
    "### 11. Crea de nuevo la misma grafica pero ahora dale nombres a las lineas y muestra la leyenda"
   ]
  },
  {
   "cell_type": "code",
   "execution_count": null,
   "metadata": {},
   "outputs": [],
   "source": []
  },
  {
   "cell_type": "markdown",
   "metadata": {},
   "source": [
    "### 12. Usando `xlim` cambia los limites del eje x para que solo muestre los años entre 2000 y 2016"
   ]
  },
  {
   "cell_type": "code",
   "execution_count": null,
   "metadata": {},
   "outputs": [],
   "source": []
  },
  {
   "cell_type": "markdown",
   "metadata": {},
   "source": [
    "### 13. ¿Que temperatura tuvo el año más frío desde 1659?\n",
    "Usa la funcion de `min` de NumPy"
   ]
  },
  {
   "cell_type": "code",
   "execution_count": null,
   "metadata": {},
   "outputs": [],
   "source": []
  },
  {
   "cell_type": "markdown",
   "metadata": {},
   "source": [
    "### 14. ¿Qué año fue el más frío?\n",
    "Usa `.idxmin`"
   ]
  },
  {
   "cell_type": "code",
   "execution_count": null,
   "metadata": {},
   "outputs": [],
   "source": []
  },
  {
   "cell_type": "markdown",
   "metadata": {},
   "source": [
    "### 15. Usando la funcion `scatter` de Matplotlib señala con un punto el año mas frío desde 1659 en la gráfica de temperaturas."
   ]
  },
  {
   "cell_type": "code",
   "execution_count": null,
   "metadata": {},
   "outputs": [],
   "source": []
  },
  {
   "cell_type": "markdown",
   "metadata": {},
   "source": [
    "### 16. Usando `plt.annotate` añade texto a la gráfica para señalar que el punto que acabamos de dibujar indica el año mas frío desde 1659."
   ]
  },
  {
   "cell_type": "code",
   "execution_count": null,
   "metadata": {},
   "outputs": [],
   "source": []
  },
  {
   "cell_type": "code",
   "execution_count": null,
   "metadata": {},
   "outputs": [],
   "source": []
  },
  {
   "cell_type": "markdown",
   "metadata": {},
   "source": [
    "### 17. Guarda la grafica a un archivo que se llame `'mi_grafica.jpg'`\n",
    "Usa la funcion `savefig` an lugar de `show` de Matplotlib"
   ]
  },
  {
   "cell_type": "code",
   "execution_count": null,
   "metadata": {},
   "outputs": [],
   "source": []
  },
  {
   "cell_type": "markdown",
   "metadata": {},
   "source": [
    "18. Ahora muestra dicha grafica en una celda del tipo Markdown\n",
    "Usa `![nombre](mi_grafica.jpg)`"
   ]
  },
  {
   "cell_type": "markdown",
   "metadata": {},
   "source": []
  }
 ],
 "metadata": {
  "kernelspec": {
   "display_name": "Python 3",
   "language": "python",
   "name": "python3"
  },
  "language_info": {
   "codemirror_mode": {
    "name": "ipython",
    "version": 3
   },
   "file_extension": ".py",
   "mimetype": "text/x-python",
   "name": "python",
   "nbconvert_exporter": "python",
   "pygments_lexer": "ipython3",
   "version": "3.8.5"
  }
 },
 "nbformat": 4,
 "nbformat_minor": 2
}
