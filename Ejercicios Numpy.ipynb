{
 "cells": [
  {
   "cell_type": "markdown",
   "id": "d482600e",
   "metadata": {},
   "source": [
    "# Ejercicios de NumPy\n",
    "Ahora que hemos aprendido algunos conceptos basicos de la libreria Numpy, vamos a hacer unos cuantos ejercicios, para refrescar ideas y para comprobar que habeis entendido estos conceptos.\n",
    "\n",
    "### 1. Importa la librería Numpy asignandole el nombre *np* u otro que te guste más."
   ]
  },
  {
   "cell_type": "code",
   "execution_count": null,
   "id": "81378190",
   "metadata": {},
   "outputs": [],
   "source": []
  },
  {
   "cell_type": "markdown",
   "id": "eeb996bf",
   "metadata": {},
   "source": [
    "## Creacion de matrices/vectores (arrays)\n",
    "### 2. Con la funcion *zeros* crea una matriz con 1 fila y 10 columnas, con todos los valores igual a 0."
   ]
  },
  {
   "cell_type": "code",
   "execution_count": null,
   "id": "0d9e24eb",
   "metadata": {},
   "outputs": [],
   "source": []
  },
  {
   "cell_type": "markdown",
   "id": "1b0d8a9e",
   "metadata": {},
   "source": [
    "### 3. Con la funcion *ones* crea una matriz con 2 filas y 10 columnas, con todos los valores igual a 1."
   ]
  },
  {
   "cell_type": "code",
   "execution_count": null,
   "id": "914ef2d7",
   "metadata": {},
   "outputs": [],
   "source": []
  },
  {
   "cell_type": "markdown",
   "id": "bec829d2",
   "metadata": {},
   "source": [
    "### 4. Crea una matriz con 10 filas y 10 columnas, con todos los valores igual a 3."
   ]
  },
  {
   "cell_type": "code",
   "execution_count": null,
   "id": "6b3bec73",
   "metadata": {},
   "outputs": [],
   "source": []
  },
  {
   "cell_type": "markdown",
   "id": "52d4d9e7",
   "metadata": {},
   "source": [
    "### 5. Con la funcion *arange* crea un vector de valores entre 1 y 100\n",
    "Cuidado con el valor final, el valor 100 debe estar incluido en la secuencia."
   ]
  },
  {
   "cell_type": "code",
   "execution_count": null,
   "id": "4062b326",
   "metadata": {},
   "outputs": [],
   "source": []
  },
  {
   "cell_type": "markdown",
   "id": "9d3f7c8e",
   "metadata": {},
   "source": [
    "### 6. Con la funcion *arange* crea un vector de todos los valores **pares** entre 1 y 100. \n",
    "Para ello vas a tener que poner como valor incial 2 y como paso 2."
   ]
  },
  {
   "cell_type": "code",
   "execution_count": null,
   "id": "544a7562",
   "metadata": {},
   "outputs": [],
   "source": []
  },
  {
   "cell_type": "markdown",
   "id": "2d8a2211",
   "metadata": {},
   "source": [
    "### 7. Crea una variable que se llame *impar* que contenga un vector con los valores impares entre 1 y 50."
   ]
  },
  {
   "cell_type": "code",
   "execution_count": null,
   "id": "2ca706b7",
   "metadata": {},
   "outputs": [],
   "source": []
  },
  {
   "cell_type": "markdown",
   "id": "3bbd7d99",
   "metadata": {},
   "source": [
    "## Modificacion de matrices/vectores (arrays)\n",
    "### 8. Con la funcion *reshape* transforma *impar* en una matriz 5x5 (de 5 filas y 5 columnas) y guardalo como una variable que se llama *matriz_impar*. Muestra la matriz en pantalla para comprobar que lo has hecho bien."
   ]
  },
  {
   "cell_type": "code",
   "execution_count": null,
   "id": "76987516",
   "metadata": {},
   "outputs": [],
   "source": []
  },
  {
   "cell_type": "markdown",
   "id": "83047ccc",
   "metadata": {},
   "source": [
    "### 9. De entre los valores que contiene *matriz_impar* extrae solo el valor que se encuentra en la segunda fila y tercera columna \n",
    "(recuerda que en Python la 1a fila/columna es en realidad la fila/columna  0)"
   ]
  },
  {
   "cell_type": "code",
   "execution_count": null,
   "id": "d55cf00b",
   "metadata": {},
   "outputs": [],
   "source": []
  },
  {
   "cell_type": "markdown",
   "id": "e0d2abd8",
   "metadata": {},
   "source": [
    "### 10. Ahora haz el valor que se encuentra en la segunda fila y tercera columna de *matriz_impar* igual a 0. Muestra la matriz en pantalla para comprobar que lo has hecho bien."
   ]
  },
  {
   "cell_type": "code",
   "execution_count": null,
   "id": "3f603f35",
   "metadata": {},
   "outputs": [],
   "source": []
  },
  {
   "cell_type": "markdown",
   "id": "f2194e15",
   "metadata": {},
   "source": [
    "### 11. Extrae los valores comprendidos entre la primera y la cuarta fila de la ultima columna "
   ]
  },
  {
   "cell_type": "code",
   "execution_count": null,
   "id": "290d2fda",
   "metadata": {},
   "outputs": [],
   "source": []
  },
  {
   "cell_type": "markdown",
   "id": "2191d313",
   "metadata": {},
   "source": [
    "### 12. Haz los valores que se encuentran entre entre la primera y la cuarta fila y entre la primera y la cuarta columna de *matriz_impar* igual 0. Muestra la matriz en pantalla para comprobar que lo has hecho bien."
   ]
  },
  {
   "cell_type": "code",
   "execution_count": null,
   "id": "48e6de0f",
   "metadata": {},
   "outputs": [],
   "source": []
  },
  {
   "cell_type": "markdown",
   "id": "98e36965",
   "metadata": {},
   "source": [
    "## Creacion de matrices/vectores de valores aleatorios\n",
    "### 13. Con la funcion *random.uniform* crea una matriz de 30x1 (30 filas y 1 columnas) con valores aleatorios comprendidos entre 0 y 10. "
   ]
  },
  {
   "cell_type": "code",
   "execution_count": null,
   "id": "99b382b6",
   "metadata": {},
   "outputs": [],
   "source": []
  },
  {
   "cell_type": "markdown",
   "id": "f11e39e0",
   "metadata": {},
   "source": [
    "### 14. Con la funcion *random.normal* crea una matriz de 30x1 (30 filas y 1 columna) con valores aleatorios con un valor medio igual a 15 y una desviacion estandar igual 2. "
   ]
  },
  {
   "cell_type": "code",
   "execution_count": null,
   "id": "e0cf5cda",
   "metadata": {},
   "outputs": [],
   "source": []
  },
  {
   "cell_type": "markdown",
   "id": "350a14ed",
   "metadata": {},
   "source": [
    "### 15. Crea una lista de 10 valores y convierte la lista a un array"
   ]
  },
  {
   "cell_type": "code",
   "execution_count": null,
   "id": "ff25d6c4",
   "metadata": {},
   "outputs": [],
   "source": []
  },
  {
   "cell_type": "markdown",
   "id": "efea0bbb",
   "metadata": {},
   "source": [
    "### 16. Ahora haz que el valor en la posicion 5 sea igual a 0"
   ]
  },
  {
   "cell_type": "code",
   "execution_count": null,
   "id": "347f2432",
   "metadata": {},
   "outputs": [],
   "source": []
  },
  {
   "cell_type": "markdown",
   "id": "a93ed731",
   "metadata": {},
   "source": [
    "### 17. Ahora haz que el segundo valor sea igual a 1"
   ]
  },
  {
   "cell_type": "code",
   "execution_count": null,
   "id": "3c810ef6",
   "metadata": {},
   "outputs": [],
   "source": []
  },
  {
   "cell_type": "markdown",
   "id": "debf9270",
   "metadata": {},
   "source": [
    "### 18. Transforma este array en una matriz con 2 filas y 5 columnas y guardala con otro nombre diferente"
   ]
  },
  {
   "cell_type": "code",
   "execution_count": null,
   "id": "d0a3d96d",
   "metadata": {},
   "outputs": [],
   "source": []
  },
  {
   "cell_type": "markdown",
   "id": "f3a9f150",
   "metadata": {},
   "source": [
    "### 19. Comprueba que el numero de filas y columnas es 2 y 5 respectivamente"
   ]
  },
  {
   "cell_type": "code",
   "execution_count": null,
   "id": "147622be",
   "metadata": {},
   "outputs": [],
   "source": []
  },
  {
   "cell_type": "markdown",
   "id": "499ab7b7",
   "metadata": {},
   "source": [
    "### 20. Crea una matriz de ceros que tenga 2 filas y 5 columnas"
   ]
  },
  {
   "cell_type": "code",
   "execution_count": null,
   "id": "84566c3d",
   "metadata": {},
   "outputs": [],
   "source": []
  },
  {
   "cell_type": "markdown",
   "id": "63b37ab8",
   "metadata": {},
   "source": [
    "### 21. Comprueba que valores son iguales entre las dos matrices que acabas de crear"
   ]
  },
  {
   "cell_type": "code",
   "execution_count": null,
   "id": "9efe255b",
   "metadata": {},
   "outputs": [],
   "source": []
  },
  {
   "cell_type": "markdown",
   "id": "8985d190",
   "metadata": {},
   "source": [
    "### 22. Ecuentra la funcion de NumPy que sirve para transponer una matriz y aplicala a una de las dos matrices"
   ]
  },
  {
   "cell_type": "code",
   "execution_count": null,
   "id": "848105bc",
   "metadata": {},
   "outputs": [],
   "source": []
  },
  {
   "cell_type": "markdown",
   "id": "0eb0d0d6",
   "metadata": {},
   "source": [
    "### 23. Crear una matriz 3x3 con valores de 0 a 8"
   ]
  },
  {
   "cell_type": "code",
   "execution_count": null,
   "id": "653fda49",
   "metadata": {},
   "outputs": [],
   "source": []
  },
  {
   "cell_type": "markdown",
   "id": "164917bb",
   "metadata": {},
   "source": [
    "### 24. Crear una matriz de 10x10 con 1's en los bordes y 0 en el interior"
   ]
  },
  {
   "cell_type": "code",
   "execution_count": null,
   "id": "c0a5ee39",
   "metadata": {},
   "outputs": [],
   "source": []
  }
 ],
 "metadata": {
  "kernelspec": {
   "display_name": "Python 3 (ipykernel)",
   "language": "python",
   "name": "python3"
  },
  "language_info": {
   "codemirror_mode": {
    "name": "ipython",
    "version": 3
   },
   "file_extension": ".py",
   "mimetype": "text/x-python",
   "name": "python",
   "nbconvert_exporter": "python",
   "pygments_lexer": "ipython3",
   "version": "3.8.13"
  }
 },
 "nbformat": 4,
 "nbformat_minor": 5
}
