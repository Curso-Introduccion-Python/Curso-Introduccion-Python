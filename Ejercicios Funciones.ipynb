{
 "cells": [
  {
   "cell_type": "markdown",
   "metadata": {},
   "source": [
    "# Ejercicios - Funciones (y conceptos básicos)\n",
    "\n",
    "### 1. Crea una funcion que multiplique dos valores. Llama a la funcion `multiply`"
   ]
  },
  {
   "cell_type": "code",
   "execution_count": null,
   "metadata": {},
   "outputs": [],
   "source": []
  },
  {
   "cell_type": "markdown",
   "metadata": {},
   "source": [
    "### 2. A la funcion que has creado añadele una explicacion de lo que hace la funcion y que se pueda ver al pulsar `Shift+Tab`\n",
    "Debes usar `\"\"\"`"
   ]
  },
  {
   "cell_type": "code",
   "execution_count": null,
   "metadata": {},
   "outputs": [],
   "source": []
  },
  {
   "cell_type": "markdown",
   "metadata": {},
   "source": [
    "### 3. Crea una funcion que imprima en pantalla uno a uno los elementos de esta lista llamada `messages`\n",
    "Pista: Usa un bucle `for`"
   ]
  },
  {
   "cell_type": "code",
   "execution_count": null,
   "metadata": {},
   "outputs": [],
   "source": [
    "messages = [ \"hello world\", \"you are\", \"coding with\", \"Python 3\" ]"
   ]
  },
  {
   "cell_type": "code",
   "execution_count": null,
   "metadata": {},
   "outputs": [],
   "source": []
  },
  {
   "cell_type": "markdown",
   "metadata": {
    "collapsed": true
   },
   "source": [
    "### 4. Crea una funcion que multiplique por 2 los elementos de `lista` uno a uno y muestre en pantalla el resultado en cada multiplicacion.\n",
    "Utiliza un bucle `for`"
   ]
  },
  {
   "cell_type": "code",
   "execution_count": null,
   "metadata": {},
   "outputs": [],
   "source": [
    "lista = [2,5,20,50,100]"
   ]
  },
  {
   "cell_type": "code",
   "execution_count": null,
   "metadata": {},
   "outputs": [],
   "source": []
  },
  {
   "cell_type": "markdown",
   "metadata": {},
   "source": [
    "### 5. Crea ahora una version de la funcion que acabas de crear pero en la que podamos poner como input el valor por le que vamos a multiplicar cada elemento de las list. Ademas, haz que la funcion multiplique por 2 por defecto si este valor no es especificado."
   ]
  },
  {
   "cell_type": "code",
   "execution_count": null,
   "metadata": {},
   "outputs": [],
   "source": []
  },
  {
   "cell_type": "markdown",
   "metadata": {
    "collapsed": true
   },
   "source": [
    "### 6. ¿Puedes arreglar el codigo de la celda de abajo para que no dé error al ejecutarla?"
   ]
  },
  {
   "cell_type": "code",
   "execution_count": null,
   "metadata": {},
   "outputs": [],
   "source": [
    "valores = [0,1,2,3,4,5]\n",
    "divide_list(valores) \n",
    "\n",
    "def divide_list(x,c=2):\n",
    "    for i in x:\n",
    "        print(i/c)"
   ]
  },
  {
   "cell_type": "markdown",
   "metadata": {},
   "source": [
    "### 7. ¿Puedes arreglar el codigo de la celda de abajo para que no dé error al ejecutarla?"
   ]
  },
  {
   "cell_type": "code",
   "execution_count": null,
   "metadata": {},
   "outputs": [],
   "source": [
    "def multiply_list(x,c=2):\n",
    "    for i in x:\n",
    "    print(i*c)"
   ]
  },
  {
   "cell_type": "markdown",
   "metadata": {},
   "source": [
    "### 8. ¿Puedes arreglar el codigo de la celda de abajo para que no dé error al ejecutarla?"
   ]
  },
  {
   "cell_type": "code",
   "execution_count": null,
   "metadata": {},
   "outputs": [],
   "source": [
    "y = [0,2,4,-5,1]\n",
    "\n",
    "def max_lista(lista):\n",
    "    print(max[lista])\n",
    "    \n",
    "max_lista(y)"
   ]
  },
  {
   "cell_type": "markdown",
   "metadata": {},
   "source": [
    "### 9. ¿Puedes arreglar el codigo de la celda de abajo para que no dé error al ejecutarla?"
   ]
  },
  {
   "cell_type": "code",
   "execution_count": null,
   "metadata": {},
   "outputs": [],
   "source": [
    "def divide_list(x,c=2)\n",
    "    for i in x:\n",
    "        print(i/c)"
   ]
  },
  {
   "cell_type": "code",
   "execution_count": null,
   "metadata": {},
   "outputs": [],
   "source": []
  }
 ],
 "metadata": {
  "kernelspec": {
   "display_name": "Python 3 (ipykernel)",
   "language": "python",
   "name": "python3"
  },
  "language_info": {
   "codemirror_mode": {
    "name": "ipython",
    "version": 3
   },
   "file_extension": ".py",
   "mimetype": "text/x-python",
   "name": "python",
   "nbconvert_exporter": "python",
   "pygments_lexer": "ipython3",
   "version": "3.8.13"
  }
 },
 "nbformat": 4,
 "nbformat_minor": 2
}
