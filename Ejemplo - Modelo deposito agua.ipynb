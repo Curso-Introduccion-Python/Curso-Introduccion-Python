{
 "cells": [
  {
   "cell_type": "markdown",
   "id": "9c25db7b",
   "metadata": {},
   "source": [
    "# Modelo deposito de agua\n",
    "En este Notebook vamos a crear un modelo muy simple en el que vamos a simular el llenado y vaciado de un deposito de agua que recibe agua de lluvia y que desaloja parte del agua acumulada por una tuberia de desagüe en el fondo del deposito.\n",
    "\n",
    "## Caracteristicas del deposito\n",
    "El deposito tiene una capacidad (`s_max`) de 10 litros y la tuberia de desagüe tiene una capacidad (`q_max`) de desalojar 3 litros al dia.\n",
    "\n",
    "![](util/modelo_deposito_1.png)"
   ]
  },
  {
   "cell_type": "code",
   "execution_count": null,
   "id": "a17ba7b8",
   "metadata": {},
   "outputs": [],
   "source": [
    "s_max = 10\n",
    "q_max = 3"
   ]
  },
  {
   "cell_type": "markdown",
   "id": "bde89f2b",
   "metadata": {},
   "source": [
    "Imagina que tenemos una prediccion de la lluvia de los proximos 10 dias y nos gustaria saber que volumen de agua tendremos en el deposito cada dia. La prediccion de la lluvia consiste en un array `rain` con los 10 valores de lluvia para cada dia."
   ]
  },
  {
   "cell_type": "code",
   "execution_count": null,
   "id": "fc3accfd",
   "metadata": {},
   "outputs": [],
   "source": [
    "import numpy as np # importamos la libreria NumPy\n",
    "rain = np.array([3,15,2,2,6,0,1,0,0,5]) # Array con la prediccion de lluvia (litros / dia)"
   ]
  },
  {
   "cell_type": "markdown",
   "id": "47480232",
   "metadata": {},
   "source": [
    "Nuestro objetivo es obtener un array `s` con los 10 valores del volumen de agua del deposito para cada dia `t`. El modelo va consistir simplemente en obtener `s[t]` como el volumen agua disponible (del dia anterior) y que entra al dia (`rain[t]`) menos el agua sale al dia por el desagüe (`q`).\n",
    "\n",
    "![](util/modelo_deposito_2.png)\n",
    "\n",
    "Vamos a ver el proceso de calculo paso a paso para comprenderlo un poco mejor.\n",
    "\n",
    "1) Para `t = 0`\n",
    "- La ecuacion para calcular el volumen de agua en el deposito seria:\n",
    "```python\n",
    "s[t] = s_ini + rain[t] - q\n",
    "```\n",
    "donde `s_ini` es el volumen de agua disponible inicialmente y que suponemos igual a 0.\n",
    "\n",
    "Como han entrado 3 litros de agua de lluvia en un dia y el desagüe tiene capacidad de 3 litros al dia, entonces `q = 3`. Es decir, lo que entra `[rain[0]` es igual a lo que sale `q` y el deposito no almacena nada de agua, `s[0] = 0`.\n",
    "\n",
    "Asi se escribiría en Python:"
   ]
  },
  {
   "cell_type": "code",
   "execution_count": null,
   "id": "61e0157c",
   "metadata": {},
   "outputs": [],
   "source": [
    "t = 0 # definimos el dia\n",
    "s_ini = 0 # definimos el volumen inicial de agua almacenada en el deposito\n",
    "q = 3\n",
    "s[t] = s_ini + rain[t] - q "
   ]
  },
  {
   "cell_type": "markdown",
   "id": "0de4ff68",
   "metadata": {},
   "source": [
    "Al ejecutar la celda de arriba nos da un error porque el array `s` no está definido. Voy a intentarlo de nuevo pero ahora voy adefinir `s` con un valor inicial, por ejemplo 0."
   ]
  },
  {
   "cell_type": "code",
   "execution_count": null,
   "id": "ad7f2cd4",
   "metadata": {},
   "outputs": [],
   "source": [
    "t = 0 # definimos el dia\n",
    "s_ini = 0 # definimos el volumen inicial de agua almacenada en el deposito\n",
    "q = 3\n",
    "s = 0\n",
    "s[t] = s_ini + rain[t] - q "
   ]
  },
  {
   "cell_type": "markdown",
   "id": "4c40e7e6",
   "metadata": {},
   "source": [
    "😓 De nuevo me da error...\n",
    "\n",
    "⚡ ¿por qué?\n",
    "\n",
    "Como hemos dicho arriba, `s` debe ser un array (es decir una estructura de valores) que contenga los valores del volumen del deposito para los 10 dias de la simulacion. Es decir `s[t]` **para t = 0, 1, ... 9**. Sin embargo, el valor inicial que le hemos dado a `s` ha sido un numero entero, en concreto 0 y por tanto Python no reconoce `s` como un array (o estructura de valores) sino como un numero entero. Y por tanto si le decimos que almacene un valor en el elemento `s[t]` Python no lo entiende ya que un numero entero es un valor unico, no una estructura de 10 valores distintos.  \n",
    "\n",
    "Por tanto tenemos primero que crear un array inicial donde el modelo irá guardando el resultado para cada uno de los días `t` (o pasos de la simulación).\n",
    "\n",
    "😕 Suena un poco raro ¿no?, necesitamos definir el resultado de la simulacion antes de hacer los calculos con el modelo??? Pues en realidad es algo muy común en programación y en particular cuando tenemos calculos con secuencias temporales en el que en cada paso temporal (time-step) los valores de las variables o arrays se van actualizando con nuevos valores. \n",
    "\n",
    "## Declaracion o inicializacion de arrays\n",
    "\n",
    "A esto se le llama **declaracion o inicializacion de arrays** o tambien puedes encontrarlo como declaracion de variables. En esencia consiste en crear primero el recipiente vacio donde vamos a almacenar los resultados en cada paso de la simulacion (time-step).\n",
    "\n",
    "Imagina que creamos una funcion para llenar la cubitera, por ejemplo llenando un hueco en cada paso (time-step). Pues la declaracion o inicializacion consistiria en crear primero una cubitera vacia y así indicarle a la función como es nuestra cubitera, es decir cuantos huecos hay (y que forma tienen). \n",
    "\n",
    "![](util/inicializacion_array.png)\n",
    "\n",
    "Al crear nuestra cubitera vacía o array vacio, lo que le estamos indicando a Python es la cantidad de espacio que debe reservar en memoria para almacenar los resultados de nuestro modelo y ademas que tipos de datos vamos a almacenar. Para inicializar un array la mejor manera es calcular un array de ceros con la funcion de NumPy `zeros`."
   ]
  },
  {
   "cell_type": "code",
   "execution_count": null,
   "id": "3d41cbd6",
   "metadata": {},
   "outputs": [],
   "source": [
    "s = np.zeros([10,1]) # creamos un array de ceros de 10 filas y 1 columna"
   ]
  },
  {
   "cell_type": "markdown",
   "id": "c5021ada",
   "metadata": {},
   "source": [
    "Si ahora intentamos de nuevo calcular y almacenar el resultado de la ecuacion en s[t]:"
   ]
  },
  {
   "cell_type": "code",
   "execution_count": null,
   "id": "9105f08d",
   "metadata": {},
   "outputs": [],
   "source": [
    "t = 0 # definimos el dia\n",
    "s_ini = 0 # definimos el volumen inicial de agua almacenada en el deposito\n",
    "q = 3\n",
    "s[t] = s_ini + rain[t] - q "
   ]
  },
  {
   "cell_type": "markdown",
   "id": "bb13c6aa",
   "metadata": {},
   "source": [
    "😊 ¡No da error! ¿ha cambiado ***s***?"
   ]
  },
  {
   "cell_type": "code",
   "execution_count": null,
   "id": "a059e8f7",
   "metadata": {},
   "outputs": [],
   "source": [
    "s"
   ]
  },
  {
   "cell_type": "markdown",
   "id": "82489a63",
   "metadata": {},
   "source": [
    "Vamos al siguiente dia de simulacion \n",
    "\n",
    "2) Para ***t = 1***\n",
    "\n",
    "- Ahora nuestro volumen inicial va a ser el volumen del deposito el dia anterior: s[t-1]\n",
    "- La prediccion de lluvia es rain[1] = 15 litros\n",
    "- La ecuacion para calcular el volumen de agua en el deposito seria:\n",
    "```python\n",
    "s[t] = s[t-1] + rain[t] - q\n",
    "```\n",
    "![](util/modelo_deposito_4.png)"
   ]
  },
  {
   "cell_type": "markdown",
   "id": "686960ac",
   "metadata": {},
   "source": [
    "⚡ ¿Que valor tendria ***q***? ¿y ***s***?"
   ]
  },
  {
   "cell_type": "code",
   "execution_count": null,
   "id": "2d62b04c",
   "metadata": {},
   "outputs": [],
   "source": [
    "t = 1\n",
    "q = 3\n",
    "s[t] = s[t-1] + rain[t] - q "
   ]
  },
  {
   "cell_type": "markdown",
   "id": "9fcc4a48",
   "metadata": {},
   "source": [
    "¿podemos automatizar el calculo de `q`? Si el agua que entra al deposito es menor o igual a la capacidad del desague, entonces toda el agua que entra sale y no se alamacena nada en el deposito, asi q = rain[t]. En cambio, si llueve mas agua de la que se puede desalojar, entonces parte del agua queda almacenada y por el desague sale lo maximo posible `q_max`. En otras palabras, q seria el **mínimo** valor entre `rain[t]` y `q_max`"
   ]
  },
  {
   "cell_type": "code",
   "execution_count": null,
   "id": "b56917f2",
   "metadata": {},
   "outputs": [],
   "source": [
    "q = np.min([rain[t], q_max])\n",
    "q"
   ]
  },
  {
   "cell_type": "markdown",
   "id": "aa6ce3f9",
   "metadata": {},
   "source": [
    "De esta manera el calculo quedaria asi:"
   ]
  },
  {
   "cell_type": "code",
   "execution_count": null,
   "id": "2c02fe93",
   "metadata": {},
   "outputs": [],
   "source": [
    "t = 1\n",
    "q = np.min([rain[t], q_max])\n",
    "s[t] = s[t-1] + rain[t] - q "
   ]
  },
  {
   "cell_type": "markdown",
   "id": "d30981cd",
   "metadata": {},
   "source": [
    "¿Ha cambiado `s`?"
   ]
  },
  {
   "cell_type": "code",
   "execution_count": null,
   "id": "6b4594e6",
   "metadata": {},
   "outputs": [],
   "source": [
    "s"
   ]
  },
  {
   "cell_type": "markdown",
   "id": "4799b522",
   "metadata": {},
   "source": [
    "⚡ ¿ves algun problema? ¿como lo podemos solucionar?"
   ]
  },
  {
   "cell_type": "code",
   "execution_count": null,
   "id": "2e252a39",
   "metadata": {},
   "outputs": [],
   "source": [
    "t = 1\n",
    "q = np.min([rain[t], q_max])\n",
    "s[t] = np.min([s[t-1] + rain[t] - q, s_max]) "
   ]
  },
  {
   "cell_type": "code",
   "execution_count": null,
   "id": "16193053",
   "metadata": {},
   "outputs": [],
   "source": [
    "s"
   ]
  },
  {
   "cell_type": "markdown",
   "id": "45f17454",
   "metadata": {},
   "source": [
    "3) Para `t = 2`\n",
    "\n",
    "- Nuestro volumen inicial va a ser el volumen del deposito el dia anterior: `s[t-1]`\n",
    "- La prediccion de lluvia es `rain[2]` = 2 litros\n",
    "\n",
    "![](util/modelo_deposito_5.png)\n",
    "\n",
    "- El calculo del volumen de agua en el deposito seria:"
   ]
  },
  {
   "cell_type": "code",
   "execution_count": null,
   "id": "4faa0c7a",
   "metadata": {},
   "outputs": [],
   "source": [
    "t = 2\n",
    "q = np.min([rain[t], q_max])\n",
    "s[t] = np.min([s[t-1] + rain[t] - q, s_max]) "
   ]
  },
  {
   "cell_type": "markdown",
   "id": "cdc48117",
   "metadata": {},
   "source": [
    "¿Ha cambiado `s`?"
   ]
  },
  {
   "cell_type": "code",
   "execution_count": null,
   "id": "4bc81e10",
   "metadata": {},
   "outputs": [],
   "source": [
    "s"
   ]
  },
  {
   "cell_type": "markdown",
   "id": "6a153f5d",
   "metadata": {},
   "source": [
    "⚡ ¿ves algo raro?\n",
    "\n",
    "Cuanta agua se ha desalojado?"
   ]
  },
  {
   "cell_type": "code",
   "execution_count": null,
   "id": "5053ae3d",
   "metadata": {},
   "outputs": [],
   "source": [
    "q"
   ]
  },
  {
   "cell_type": "markdown",
   "id": "208d7bc7",
   "metadata": {},
   "source": [
    "⚡ ¿por que se ha deslojado menos agua de la capacidad del desagüe `q_max`?\n",
    "\n",
    "Para calcular `q` solo hemos tenido en cuenta el volumen agua entra ese dia en el deposito `rain[t]` pero ¿no deberiamos tener tambien en cuenta tambien el volumen de agua tenemos almacenada del dia anterior `s[t-1]`?\n",
    "\n",
    "```python\n",
    "q = np.min([s[t-1] +  rain[t], q_max])\n",
    "```\n",
    "\n",
    "De esta manera el calculo quedaria asi:"
   ]
  },
  {
   "cell_type": "code",
   "execution_count": null,
   "id": "1de1ed41",
   "metadata": {},
   "outputs": [],
   "source": [
    "t = 2\n",
    "q = np.min([s[t-1] +  rain[t], q_max])\n",
    "s[t] = np.min([s[t-1] + rain[t] - q, s_max]) "
   ]
  },
  {
   "cell_type": "code",
   "execution_count": null,
   "id": "f8c9ba47",
   "metadata": {},
   "outputs": [],
   "source": [
    "q"
   ]
  },
  {
   "cell_type": "code",
   "execution_count": null,
   "id": "bdf17770",
   "metadata": {},
   "outputs": [],
   "source": [
    "s"
   ]
  },
  {
   "cell_type": "markdown",
   "id": "fa0b0f9b",
   "metadata": {},
   "source": [
    "Utilizando las formulas que hemos obtenido arriba podemos repetir el proceso para cada `t` hasta t = 9. \n",
    "\n",
    "![](util/modelo_deposito_6.png)\n",
    "\n",
    "Pero ¿y si mejor hacemos utilizamos una funcion bucle como `for` y nos ahorramos trabajo y tiempo?"
   ]
  },
  {
   "cell_type": "code",
   "execution_count": null,
   "id": "69ea9b00",
   "metadata": {},
   "outputs": [],
   "source": [
    "timesteps = np.arange(0,10,1) # creamos un array llamado timesteps con los valores que va tomar t en cada paso: 0,1,2 ...9 \n",
    "s = np.zeros([10,1]) # Inicializamos el array s\n",
    "\n",
    "for t in timesteps: # para t igual a cada uno de los valores en timesteps\n",
    "    q = np.min([s[t-1] +  rain[t], q_max])\n",
    "    s[t] = np.min([s[t-1] + rain[t] - q, s_max]) "
   ]
  },
  {
   "cell_type": "markdown",
   "id": "2e5a166f",
   "metadata": {},
   "source": [
    "De esta manera hacemos todos los calculos en una sola celda con unas pocas lineas de codigo. "
   ]
  },
  {
   "cell_type": "code",
   "execution_count": null,
   "id": "5f8b6b41",
   "metadata": {},
   "outputs": [],
   "source": [
    "s"
   ]
  },
  {
   "cell_type": "markdown",
   "id": "95b33ef4",
   "metadata": {},
   "source": [
    "Pues esto, simplemente **dos ecuaciones** que se ejecutan dentro de un bucle `for` es un **modelo** que simula el llenado y vaciado de un deposito de agua. Como veis un modelo puede ser muy simple y en realidad modelos mas complejos como los modelos hidrologicos no son mas que combinaciones de varios depositos.\n",
    "\n",
    "![](util/ejemplos_modelos_hidrologicos.png)\n",
    "\n",
    "Para no tener que estar copiando y pegando el codigo cada vez que lo queramos utilizar vamos a crear un funcion que contenga nuestro modelo. La funcion se llama ***modelo_deposito*** y tiene como inputs las caracteristicas del deposito `_max` y `q_max` y la prediccion de lluvias `rain`:"
   ]
  },
  {
   "cell_type": "code",
   "execution_count": null,
   "id": "32a0016c",
   "metadata": {},
   "outputs": [],
   "source": [
    "def modelo_deposito(s_max, q_max, rain):\n",
    "    timesteps = np.arange(0,10,1) # \n",
    "    s = np.zeros([10,1]) # Inicializamos el array s\n",
    "    \n",
    "    for t in timesteps:\n",
    "        q = np.min([s[t-1] +  rain[t], q_max])\n",
    "        s[t] = np.min([s[t-1] + rain[t] - q, s_max]) \n",
    "    \n",
    "    return s"
   ]
  },
  {
   "cell_type": "markdown",
   "id": "eb07fed6",
   "metadata": {},
   "source": [
    "Una vez creada nuestra funcion la podemos utilizar cuando queramos"
   ]
  },
  {
   "cell_type": "code",
   "execution_count": null,
   "id": "3697da2c",
   "metadata": {},
   "outputs": [],
   "source": [
    "s = modelo_deposito(s_max, q_max, rain)"
   ]
  },
  {
   "cell_type": "markdown",
   "id": "bc82cd14",
   "metadata": {},
   "source": [
    "Podemos tambien cambiar los inputs de la funcion, si por ejemplo queremos probar un deposito diferente con volume maximo `s_max` mayor."
   ]
  },
  {
   "cell_type": "code",
   "execution_count": null,
   "id": "7b195970",
   "metadata": {},
   "outputs": [],
   "source": [
    "s_max = 15\n",
    "modelo_deposito(s_max, q_max, rain)"
   ]
  },
  {
   "cell_type": "markdown",
   "id": "d91f7d03",
   "metadata": {},
   "source": [
    "O si por ejemplo queremos utilizar una prediccion de la lluvia a mas largo plazo, por ejemplo para los proximos **15 dias** (en vez de 10)"
   ]
  },
  {
   "cell_type": "code",
   "execution_count": null,
   "id": "2426c5b9",
   "metadata": {},
   "outputs": [],
   "source": [
    "rain = np.array([3,15,2,2,6,0,1,0,0,5,3,9,8,2,0]) # prediccion de lluvia de 15 dias\n",
    "modelo_deposito(s_max, q_max, rain)"
   ]
  },
  {
   "cell_type": "markdown",
   "id": "ddb05fb7",
   "metadata": {},
   "source": [
    "⚡ ¿Veis algo raro en el resultado? ¿es el mismo resultado? ¿por que?\n",
    "\n",
    "Si nos fijamos en el codigo del modelo vemos que tanto para definir `timesteps` como para inicializar `s` hemos usado 10 para que tuvieran los mismos elementos que la prediccion de la lluvia `rain` que era para 10 dias. \n",
    "\n",
    "```python\n",
    "timesteps = np.arange(0,10,1)\n",
    "s = np.zeros([10,1])\n",
    "```\n",
    "Sin embargo ahora, esto ha cambiado y deberiamos cambiar el 10 por 15. Pero y si despues queremos utilizar una prediccion para 5 dias o para 20, ¿tenemos que cambiar cada vez este valor manualmente? ¿y si contamos el numero de elementos de `rain`, lo guardamos como una variable `T` y la ponemos en el lugar de `10`?"
   ]
  },
  {
   "cell_type": "code",
   "execution_count": null,
   "id": "a032a581",
   "metadata": {},
   "outputs": [],
   "source": [
    "def modelo_deposito(s_max, q_max, rain):\n",
    "    T = np.size(rain)\n",
    "    \n",
    "    timesteps = np.arange(0,T,1) # \n",
    "    s = np.zeros([T,1]) # Inicializamos el array s\n",
    "    \n",
    "    for t in timesteps:\n",
    "        q = np.min([s[t-1] +  rain[t], q_max])\n",
    "        s[t] = np.min([s[t-1] + rain[t] - q, s_max]) \n",
    "    \n",
    "    return s"
   ]
  },
  {
   "cell_type": "code",
   "execution_count": null,
   "id": "5ab3eea1",
   "metadata": {},
   "outputs": [],
   "source": [
    "rain = np.array([3,15,2,2,6,0,1,0,0,5,3,9,8,2,0]) # prediccion para 15 dias\n",
    "modelo_deposito(s_max, q_max, rain)"
   ]
  },
  {
   "cell_type": "code",
   "execution_count": null,
   "id": "c8e48f78",
   "metadata": {},
   "outputs": [],
   "source": [
    "rain = np.array([3,15,2,2,6]) # prediccion para 5 dias\n",
    "modelo_deposito(s_max, q_max, rain)"
   ]
  },
  {
   "cell_type": "markdown",
   "id": "d63c08fc",
   "metadata": {},
   "source": [
    "Creo que ya podemos decir que nuestro modelo funciona suficientemente bien. Como habeis podido ver para nuestro modelo hemos necesitado crear un funcion con `def` y aplicar un bucle `for` y varias funciones de Numpy: `size`, `arange`, `zeros`, `min`.\n",
    "\n",
    "⚡ ¿se os ocurre otra manera de escribir el modelo? ¿se podria definir la ecuacion\n",
    "```python\n",
    "q = np.min([s[t-1] +  rain[t], q_max])\n",
    "```\n",
    "de otra manera, por ejemplo usando operaciones condicionales `if`, `else`?"
   ]
  },
  {
   "cell_type": "code",
   "execution_count": null,
   "id": "41e8df47",
   "metadata": {},
   "outputs": [],
   "source": [
    "if s[t-1] +  rain[t] > q_max:\n",
    "    \n",
    "else:\n",
    "    "
   ]
  },
  {
   "cell_type": "markdown",
   "id": "938f53a0",
   "metadata": {},
   "source": [
    "⚡ Ahora cread un nuevo modelo que se llame `modelo_deposito_2` que sea igual que `modelo_deposito` pero con la nueva forma de calcular `q` que hemos definido arriba"
   ]
  },
  {
   "cell_type": "code",
   "execution_count": null,
   "id": "bfbdcf66",
   "metadata": {},
   "outputs": [],
   "source": []
  }
 ],
 "metadata": {
  "kernelspec": {
   "display_name": "Python 3 (ipykernel)",
   "language": "python",
   "name": "python3"
  },
  "language_info": {
   "codemirror_mode": {
    "name": "ipython",
    "version": 3
   },
   "file_extension": ".py",
   "mimetype": "text/x-python",
   "name": "python",
   "nbconvert_exporter": "python",
   "pygments_lexer": "ipython3",
   "version": "3.8.13"
  }
 },
 "nbformat": 4,
 "nbformat_minor": 5
}
