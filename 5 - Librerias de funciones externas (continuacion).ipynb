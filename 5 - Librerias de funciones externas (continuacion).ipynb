{
 "cells": [
  {
   "cell_type": "markdown",
   "metadata": {},
   "source": [
    "## 3. Matplotlib\n",
    "Matplotlib es una librería de Python especializada en la creación de gráficos en dos dimensiones. Permite crear y personalizar los tipos de gráficas más comunes:\n",
    "- Graficas de lineas\n",
    "- Graficas de barras\n",
    "- Graficas de puntos\n",
    "- Diagramas de caja y bigotes\n",
    "...\n",
    "\n",
    "En este curso vamos a ver como crear una gráfica sencilla y como personalizarla con unas pocas funciones.\n",
    "\n",
    "<img src='util/Matplotlib_funciones.png'>\n",
    "\n",
    "Pero si quereis saber más de los distintos tipos de gráficas disponibles con Matplotlib: (https://matplotlib.org/2.0.2/gallery.html). Y de que parametros podemos usar para modificarlas: https://matplotlib.org/stable/plot_types/index\n",
    "\n",
    "Lo primero es importar la libreria. En concreto debemos importar un modulo de Matplotlib que se llama `pyplot` y al que vamos a llamar `plt`."
   ]
  },
  {
   "cell_type": "code",
   "execution_count": null,
   "metadata": {},
   "outputs": [],
   "source": [
    "import matplotlib.pyplot as plt"
   ]
  },
  {
   "cell_type": "markdown",
   "metadata": {},
   "source": [
    "### 3.1 Dibujar una linea\n",
    "Vamos primero a crear los datos que vamos a dibujar. En este caso usamos NumPy para crear un array con la secuencia de numeros entre 0 y 5 con un intervalo de 0.5, es decir 0, 0.5 ,1 ,1.5... 4.5. Esta secuencia van a ser los valores en el eje x de nuestra linea y los valores del y seran los valores de x al cuadrado."
   ]
  },
  {
   "cell_type": "code",
   "execution_count": null,
   "metadata": {},
   "outputs": [],
   "source": [
    "import numpy as np\n",
    "x = np.arange(0, 5, 0.5)\n",
    "y = x ** 2"
   ]
  },
  {
   "cell_type": "code",
   "execution_count": null,
   "metadata": {},
   "outputs": [],
   "source": [
    "x"
   ]
  },
  {
   "cell_type": "code",
   "execution_count": null,
   "metadata": {},
   "outputs": [],
   "source": [
    "y"
   ]
  },
  {
   "cell_type": "markdown",
   "metadata": {},
   "source": [
    "Podemos dibujar una linea usando la herramienta *plot* (que esta incluida en la libreria Matplotlib)"
   ]
  },
  {
   "cell_type": "code",
   "execution_count": null,
   "metadata": {},
   "outputs": [],
   "source": [
    "plt.plot(x, y) # el primer elemento entre parentesis son los valores de x y el segundo los de y"
   ]
  },
  {
   "cell_type": "markdown",
   "metadata": {},
   "source": [
    "### 3.2 Cambiar el formato de la linea\n",
    "Podemos cambiar el **color de la linea**, por ejemplo a rojo definiendo el parametro `color`."
   ]
  },
  {
   "cell_type": "code",
   "execution_count": null,
   "metadata": {},
   "outputs": [],
   "source": [
    "plt.plot(x, y, color = 'red')"
   ]
  },
  {
   "cell_type": "markdown",
   "metadata": {},
   "source": [
    "O cambiar el **estilo de la linea**, por ejemplo a una linea discontinua definiendo el parametro `linestyle`. 🚨 **Aclaracion**: sino lo especificamos Matplotlib dibuja la linea continua por defecto."
   ]
  },
  {
   "cell_type": "code",
   "execution_count": null,
   "metadata": {},
   "outputs": [],
   "source": [
    "plt.plot(x, y, color = 'red', linestyle = '--')"
   ]
  },
  {
   "cell_type": "markdown",
   "metadata": {},
   "source": [
    "Tambien podemos cambiar el **grosor de la linea** con `linewidth`"
   ]
  },
  {
   "cell_type": "code",
   "execution_count": null,
   "metadata": {},
   "outputs": [],
   "source": [
    "plt.plot(x, y, color = 'red', linestyle = '--', linewidth = 5)"
   ]
  },
  {
   "cell_type": "markdown",
   "metadata": {},
   "source": [
    "En vez de usar una linea podemos usar **puntos** para representar los datos usando la herramienta `scatter`"
   ]
  },
  {
   "cell_type": "code",
   "execution_count": null,
   "metadata": {},
   "outputs": [],
   "source": [
    "plt.scatter(x, y)"
   ]
  },
  {
   "cell_type": "markdown",
   "metadata": {},
   "source": [
    "O con un **diagrama de barras** usando `bar`"
   ]
  },
  {
   "cell_type": "code",
   "execution_count": null,
   "metadata": {},
   "outputs": [],
   "source": [
    "plt.bar(x,y)"
   ]
  },
  {
   "cell_type": "markdown",
   "metadata": {},
   "source": [
    "Si quereis saber mas sobre las distintas formas de dibujar los datos y los parametros disponibles podeis visitar esta pagina https://matplotlib.org/stable/plot_types/index#basic\n",
    "\n",
    "### 3.3 Cambiar el formato de los ejes de la grafica.\n",
    "Poodemos cambiar los limites de los ejes a representar con el módulo `xlim`"
   ]
  },
  {
   "cell_type": "code",
   "execution_count": null,
   "metadata": {},
   "outputs": [],
   "source": [
    "plt.plot(x, y, color = 'red', linestyle = '--')\n",
    "plt.ylim(0,40)"
   ]
  },
  {
   "cell_type": "markdown",
   "metadata": {},
   "source": [
    "Podemos añadir un titulo a la grafica y a los ejes de coordenadas."
   ]
  },
  {
   "cell_type": "code",
   "execution_count": null,
   "metadata": {},
   "outputs": [],
   "source": [
    "plt.plot(x, y, color = 'red', linestyle = '--')\n",
    "plt.title('Lineas y puntos') # para ñadir el titulo de la grafica\n",
    "plt.xlabel('eje x') # para añadir el titulo al eje x\n",
    "plt.ylabel('eje y') # para añadir el titulo de eje y"
   ]
  },
  {
   "cell_type": "markdown",
   "metadata": {},
   "source": [
    "Añadir otra linea y una leyenda."
   ]
  },
  {
   "cell_type": "code",
   "execution_count": null,
   "metadata": {},
   "outputs": [],
   "source": [
    "plt.plot(x, y, color = 'red', linestyle = '--', label = 'linea') # label es el nombre que aparecera en la leyenda\n",
    "plt.scatter(y, x, color = 'blue', linestyle = ':', label = 'puntos') # label es el nombre que aparecera en la leyenda\n",
    "plt.title('Lineas y puntos') \n",
    "plt.xlabel('eje x')\n",
    "plt.ylabel('eje y')\n",
    "plt.legend() # con esta linea añadimos la leyenda a la grafica."
   ]
  },
  {
   "cell_type": "markdown",
   "metadata": {},
   "source": [
    "Como podeis ver para personalizar las graficas en Matplotlib se necesitan varias lineas de codigo para especificar distintos parametros y caracterisiticas de la grafica. Sin embargo, hay librerias que nos facilitan este trabajo, una de ellas es **Seaborn**.\n",
    "\n",
    "## 4. Seaborn\n",
    "Seaborn es una libreria de visualización de datos que está basada en Matplotlib pero que facilita la creacion de graficas mas orientadas al analisis estadistico. Para que lo entendais mejor, si para crear una grafica que nos muestre una distribucion estadistica de manera clara y bonita, en Matplotlib necesitamos varias lineas de codigo, con Seaborn lo podemos hacer con una sola linea de codigo.\n",
    "\n",
    "<img src='util/Seaborn_funciones.png'>\n",
    "\n",
    "Vamos a ver algunos ejemplos.\n",
    "\n",
    "Lo primero como siempre cuando utilizamos librerias externas es importar la libreria."
   ]
  },
  {
   "cell_type": "code",
   "execution_count": null,
   "metadata": {},
   "outputs": [],
   "source": [
    "import seaborn as sns # importamos la libreria seaborn como sns"
   ]
  },
  {
   "cell_type": "markdown",
   "metadata": {},
   "source": [
    "Alguna librerias ademas de contener funciones tambien contienen conjuntos de datos que podemos utilizar como ejemplos para visualizarlos. Asi con la funcion `load_dataset` podemos guardar estos datos de ejemplo como un dataframe de Pandas. Aqui vamos a utilizar los datos `'tips'` que es una tabla con datos de propinas en restaurantes segun el total de la cuenta (total_bill), sexo,..."
   ]
  },
  {
   "cell_type": "code",
   "execution_count": null,
   "metadata": {},
   "outputs": [],
   "source": [
    "tips = sns.load_dataset('tips')"
   ]
  },
  {
   "cell_type": "code",
   "execution_count": null,
   "metadata": {},
   "outputs": [],
   "source": [
    "tips.head()"
   ]
  },
  {
   "cell_type": "markdown",
   "metadata": {},
   "source": [
    "### 4.1 Graficas de distribucion o histogramas\n",
    "Con la funcion `displot` de Seaborn podemos por ejemplo crear la funcion de distribucion del coste de la cuenta."
   ]
  },
  {
   "cell_type": "code",
   "execution_count": null,
   "metadata": {},
   "outputs": [],
   "source": [
    "sns.displot(tips['total_bill'])"
   ]
  },
  {
   "cell_type": "markdown",
   "metadata": {},
   "source": [
    "O de las propinas"
   ]
  },
  {
   "cell_type": "code",
   "execution_count": null,
   "metadata": {},
   "outputs": [],
   "source": [
    "sns.displot(tips['tip'])"
   ]
  },
  {
   "cell_type": "markdown",
   "metadata": {},
   "source": [
    "### 4.2 Graficos de correlacion\n",
    "Con estos graficos podemos visualizar la relacion entre dos variables, por ejemplo entre la propina y el coste total de la cuenta. Para ello utilizamos la funcion `lmplot`"
   ]
  },
  {
   "cell_type": "code",
   "execution_count": null,
   "metadata": {},
   "outputs": [],
   "source": [
    "sns.lmplot(data=tips, x='total_bill', y='tip')"
   ]
  },
  {
   "cell_type": "markdown",
   "metadata": {},
   "source": [
    "O podemos incluso visualizar los datos combinandolo con el histograma. Para ello utilizamos la funcion `jointplot`"
   ]
  },
  {
   "cell_type": "code",
   "execution_count": null,
   "metadata": {},
   "outputs": [],
   "source": [
    "sns.jointplot(x=tips['total_bill'], y=tips['tip'])"
   ]
  },
  {
   "cell_type": "markdown",
   "metadata": {},
   "source": [
    "Y ademas podemos por ejemplo distinguir con colores otras caracterisiticas, por ejemplo el sexo."
   ]
  },
  {
   "cell_type": "code",
   "execution_count": null,
   "metadata": {},
   "outputs": [],
   "source": [
    "sns.jointplot(x=tips['total_bill'], y=tips['tip'], hue = tips['sex'])"
   ]
  },
  {
   "cell_type": "markdown",
   "metadata": {},
   "source": [
    "#### Vamos a ver un ejemplo donde utilizamos la libreria Seaborn para visualizar y analizar datos de cultivos de precision: [Ejemplo - Visualizacion datos cultivos](Ejemplo%20-%20Visualizacion%20datos%20cultivos.ipynb)\n",
    "\n",
    "Si quieres saber más sobre Seaborn y las funciones que incluye: https://seaborn.pydata.org/"
   ]
  },
  {
   "cell_type": "markdown",
   "metadata": {},
   "source": [
    "## 5. Ipywidgets\n",
    "Al explorar datos muchas veces es útil poder ver cómo cambia el resultado al modificar los parámetros de entrada. Para esto generalmente tenemos que cambiar el código y volver a ejecutar la celda, pero hay una opcion más interactiva al incorporar Ipywidgets para ajustar esos parámetros. \n",
    "\n",
    "Ipywidgets es una libreria para integrar widgets en Jupyter Notebooks y asi por ejemplo crear graficas interactivas.\n",
    "\n",
    "Vale, ¿pero que son los widgets? Vamos a ver que son y como utilizarlos con un ejemplo."
   ]
  },
  {
   "cell_type": "code",
   "execution_count": null,
   "metadata": {},
   "outputs": [],
   "source": [
    "from ipywidgets import interact\n",
    "def interactive_plot(x,y):\n",
    "    plt.scatter(tips[x],tips[y])\n",
    "    plt.show()\n",
    "\n",
    "interact(interactive_plot,x=['total_bill','tip','sex', 'smoker', 'day', 'time', 'size'],y=tips.columns.values)"
   ]
  },
  {
   "cell_type": "markdown",
   "metadata": {},
   "source": [
    "⚡**Ejercicio:** Intenta ahora mejorarlo combinando Seaborn y Ipywidgets para crear una grafica interactiva. Usa la funcion `sns.jointplot`"
   ]
  },
  {
   "cell_type": "code",
   "execution_count": null,
   "metadata": {},
   "outputs": [],
   "source": []
  },
  {
   "cell_type": "markdown",
   "metadata": {},
   "source": [
    "### Vamos a ver otro ejemplo en el Notebook [Ejemplo - Onda de sonido](Ejemplo%20-%20Onda%20de%20sonido.ipynb)"
   ]
  },
  {
   "cell_type": "code",
   "execution_count": null,
   "metadata": {},
   "outputs": [],
   "source": []
  }
 ],
 "metadata": {
  "kernelspec": {
   "display_name": "Python 3 (ipykernel)",
   "language": "python",
   "name": "python3"
  },
  "language_info": {
   "codemirror_mode": {
    "name": "ipython",
    "version": 3
   },
   "file_extension": ".py",
   "mimetype": "text/x-python",
   "name": "python",
   "nbconvert_exporter": "python",
   "pygments_lexer": "ipython3",
   "version": "3.8.13"
  }
 },
 "nbformat": 4,
 "nbformat_minor": 4
}
