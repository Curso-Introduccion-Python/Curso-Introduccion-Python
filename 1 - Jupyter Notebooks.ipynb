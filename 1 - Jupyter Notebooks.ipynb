{
 "cells": [
  {
   "cell_type": "markdown",
   "metadata": {},
   "source": [
    "# Jupyter Notebooks\n",
    "Jupyter Notebooks es una interfaz para programar mas amigable y accesible. Basicamente consiste en un documento (parecido a un documento Word) en el que podemos integrar texto, imagenes, graficas y el codigo, el cual podemos ejecutar. Los Notebooks se pueden compartir facilmente con otras personas, por ejemplo con nuestro profesor o supervisor para explicarles que hemos hecho y que puedan comprobar que todo el proceso es correcto.\n",
    "\n",
    "El Notebook esta dividido celdas, principalmente de dos tipos: codigo (Code) y texto (Markdown). El texto que estas leyendo ahora mismo esta dentro de una celda de tipo Markdown. La celda de abajo en color gris es una celda tipo Code y en ella podemos escribir codigo Python, ejecutarlo y ver el resultado. Prueba a ejecutar el codigo de abajo clickando sobre la celda y despues pulsando las teclas `SHIFT+Enter` (pulsas primero Shift y sin soltarla pulsas Enter).\n",
    "\n",
    "![ejecutar_celdas](util/ejecutar_celdas.png)"
   ]
  },
  {
   "cell_type": "code",
   "execution_count": null,
   "metadata": {},
   "outputs": [],
   "source": [
    "2 * 3"
   ]
  },
  {
   "cell_type": "markdown",
   "metadata": {},
   "source": [
    "No solo puedes ejecutar las celdas, tambien puedes editarlas o crear nuevas. **Prueba por ejemplo a editar la celda de arriba para que en vez de multiplicar los valores 2 y 3, los divida y despues ejecuta la celda para ver el resultado.**"
   ]
  },
  {
   "cell_type": "markdown",
   "metadata": {},
   "source": [
    "Una de las cosas mas utiles de Jupyter Notebooks es que puedes mezclar la documentacion del codigo (es decir, la explicacion e indicaciones del codigo en si) con el codigo. Para ello Jupyter Notebooks nos da la opcion de elegir si la celda es de tipo Code (codigo) o tipo Markdown (texto). Para elegir el tipo de celda debes primero clicar en la celda que queremos cambiar y despues ir al menu y clicar en el menu desplegable:\n",
    "\n",
    "![](util/menu_tipo_celda.png)\n",
    "\n",
    "Aclaracion: Aunque veas que hay cuatro tipos a elegir en el menu, en este curso solo vamos a utilizar los dos primeros.\n",
    "\n",
    "⚡ Ahora prueba a escribir un texto cualquiera, por ejemplo tu nombre, en la celda de abajo y ejecuta la celda. Veras que te da error porque la celda es de tipo Code por defecto y Python no reconoce tu nombre como una funcion o variable valida. Ahora cambia el tipo de celda a Markdown y ejecuta la celda, veras que aparece en el mismo formato que el texto que estas leyendo ahora mismo."
   ]
  },
  {
   "cell_type": "code",
   "execution_count": null,
   "metadata": {},
   "outputs": [],
   "source": []
  },
  {
   "cell_type": "markdown",
   "metadata": {},
   "source": [
    "Ademas podemos darle formato al texto. Por ejemplo para que darle al texto formato de titulo añadimos el simbolo #. Dependiendo del numero de # que pongamos seguidos el titulo ser de nivel 1, 2, 3...\n",
    "\n",
    "# # para un titulo de nivel 1\n",
    "\n",
    "## ## para un titulo de nivel 2\n",
    "\n",
    "### ### para un titulo de nivel 3 \n",
    "\n",
    "También podemos escribir el texto en negrita poniendo ** al principio y al final del texto que queremos poner en negrita o podemos escribir el texto en cursiva poniendo * al principio y al final del texto.\n",
    "\n",
    "En las celdas de tipo *Code* tambien podemos insertar texto para por ejemplo explicar el codigo. Para ello debemos utilizar tambien el simbolo #."
   ]
  },
  {
   "cell_type": "code",
   "execution_count": null,
   "metadata": {},
   "outputs": [],
   "source": [
    "2 + 3 # en esta linea de codigo sumamos dos numeros enteros"
   ]
  },
  {
   "cell_type": "markdown",
   "metadata": {},
   "source": [
    "Todo lo que pongamos detras del simbolo # es ignorado por Python\n",
    "## Insertar formulas\n",
    "Para escribir formulas en las celdas de tipo Markdown necesitamos poner el texto de la formula entre signos de $ y la formula en si debe escribirse usando el formato LaTeX.\n",
    "\n",
    "Por ejemplo, `$sin(\\frac{2\\pi}{3})=\\frac{\\sqrt{3}}{2}$`\n",
    "da como resultado\n",
    "$sin(\\frac{2\\pi}{3})=\\frac{\\sqrt{3}}{2}$"
   ]
  },
  {
   "cell_type": "markdown",
   "metadata": {},
   "source": [
    "## Insertar imagenes\n",
    "Solo podemos inserter imagenes en celdas del tipo Markdown y debemos usar la siguiente sintaxis:\n",
    "\n",
    "**![nombre alternativo](direccion de la imagen)**\n",
    "\n",
    "La direccion de la imagen puede ser a la localizacion del archivo en nuestro disco duro, por ejemplo: "
   ]
  },
  {
   "cell_type": "code",
   "execution_count": null,
   "metadata": {},
   "outputs": [],
   "source": [
    "![mountain monkey](util/animals_gelada.jpg)"
   ]
  },
  {
   "cell_type": "markdown",
   "metadata": {},
   "source": [
    "O puede ser a una imagen de una pagina web, por ejemplo:"
   ]
  },
  {
   "cell_type": "code",
   "execution_count": null,
   "metadata": {},
   "outputs": [],
   "source": [
    "![Imagen](https://animals.sandiegozoo.org/sites/default/files/2016-10/animals_hero_penguin_02_1.jpg)"
   ]
  },
  {
   "cell_type": "markdown",
   "metadata": {},
   "source": [
    "## Enlaces a paginas web\n",
    "Jupyter Notebooks tambien nos permite insertar links a paginas web y para ello debemos usar la siguiente sintaxis:\n",
    "\n",
    "**[texto](direccion del link)**\n",
    "\n",
    "Por ejemplo: [Pulsa aqui para ir a la pagina web de la UCO](http://www.UCO.es)"
   ]
  },
  {
   "cell_type": "markdown",
   "metadata": {},
   "source": [
    "## Ejercicios\n",
    "\n",
    "### Ejercicio 1\n",
    "\n",
    "a) En la celda de abajo haz el siguiente calculo (recuerda para ejecutar una celda debes pulsar las teclas Shift + Enter)\n",
    "\n",
    "```python\n",
    "2 * 3 + 2\n",
    "```"
   ]
  },
  {
   "cell_type": "code",
   "execution_count": null,
   "metadata": {},
   "outputs": [],
   "source": []
  },
  {
   "cell_type": "markdown",
   "metadata": {
    "collapsed": true
   },
   "source": [
    "b) ahora haz el siguiente calculo\n",
    "```python\n",
    "2 * (3 + 2)\n",
    "```"
   ]
  },
  {
   "cell_type": "code",
   "execution_count": null,
   "metadata": {},
   "outputs": [],
   "source": []
  },
  {
   "cell_type": "markdown",
   "metadata": {},
   "source": [
    "¿Es el resultado diferente? ¿por qué?\n",
    "\n",
    "c) Ahora, en la celda de abajo, realiza la siguiente operacion\n",
    "```python\n",
    "x = 2\n",
    "```"
   ]
  },
  {
   "cell_type": "code",
   "execution_count": null,
   "metadata": {},
   "outputs": [],
   "source": []
  },
  {
   "cell_type": "markdown",
   "metadata": {},
   "source": [
    "d) y ahora en la celda de abajo realiza la siguiente operacion\n",
    "```python\n",
    "print(x)\n",
    "```"
   ]
  },
  {
   "cell_type": "code",
   "execution_count": null,
   "metadata": {},
   "outputs": [],
   "source": []
  },
  {
   "cell_type": "markdown",
   "metadata": {},
   "source": [
    "Como puedes comprobar el valor que hemos asignado a ***x*** se queda grabado en la memoria del ordenador."
   ]
  },
  {
   "cell_type": "markdown",
   "metadata": {},
   "source": [
    "### Ejercicio 2\n",
    "a) Edita el titulo de abajo, primero cambia la celda a tipo *Markdown* y despues haz que el titulo pase a ser de nivel 4. Por ultimo ejecuta la celda. "
   ]
  },
  {
   "cell_type": "code",
   "execution_count": null,
   "metadata": {},
   "outputs": [],
   "source": [
    "## Este es titulo que debes editar"
   ]
  },
  {
   "cell_type": "markdown",
   "metadata": {},
   "source": [
    "b) Ahora pon el texto de esta celda que estás leyendo ahora mismo en negrita (Nota: para editar las celdas tipo Markdown debes hacer doble click sobre ellas)"
   ]
  },
  {
   "cell_type": "markdown",
   "metadata": {},
   "source": [
    "c) Y ahora pon el texto de esta celda en cursiva"
   ]
  },
  {
   "cell_type": "markdown",
   "metadata": {},
   "source": [
    "### Ejercicio 3\n",
    "\n",
    "a) Simplemente ejecuta la celda de abajo"
   ]
  },
  {
   "cell_type": "code",
   "execution_count": null,
   "metadata": {},
   "outputs": [],
   "source": [
    "# 2 ** 3"
   ]
  },
  {
   "cell_type": "markdown",
   "metadata": {},
   "source": [
    "¿Por que no te da ningun resultado? Edita la celda de arriba para obtener el resultado\n",
    "\n",
    "Ahora en la celda de abajo pon el simbolo # en el lugar correcto para que al ejecutar la celda no dé error."
   ]
  },
  {
   "cell_type": "code",
   "execution_count": null,
   "metadata": {},
   "outputs": [],
   "source": [
    "y = 2 ** 3 En esta linea de código le asignamos el valor 2 ** 3 a y"
   ]
  },
  {
   "cell_type": "markdown",
   "metadata": {},
   "source": [
    "### Ejercicio 4\n",
    "Abajo hay dos operaciones pero estan en orden incorrecto, ¿por qué? ¿sabrias ponerlas en orden correcto?"
   ]
  },
  {
   "cell_type": "code",
   "execution_count": null,
   "metadata": {},
   "outputs": [],
   "source": [
    "z * 2"
   ]
  },
  {
   "cell_type": "code",
   "execution_count": null,
   "metadata": {},
   "outputs": [],
   "source": [
    "z = 5"
   ]
  },
  {
   "cell_type": "markdown",
   "metadata": {},
   "source": [
    "### Ejercicio 5\n",
    "Inserta una foto de internet en la celda de abajo"
   ]
  },
  {
   "cell_type": "code",
   "execution_count": null,
   "metadata": {},
   "outputs": [],
   "source": []
  },
  {
   "cell_type": "markdown",
   "metadata": {},
   "source": [
    "### Ejercicio 6\n",
    "Crea un enlace a la pagina de Wikipedia en la celda de abajo."
   ]
  },
  {
   "cell_type": "code",
   "execution_count": null,
   "metadata": {},
   "outputs": [],
   "source": []
  },
  {
   "cell_type": "markdown",
   "metadata": {},
   "source": [
    "### Ejercicio 7\n",
    "Crea un enlace a la pagina de la UCO en la celda de abajo pero esta vez el texto del enlace debe aparecer como un titulo de nivel 2."
   ]
  },
  {
   "cell_type": "code",
   "execution_count": null,
   "metadata": {},
   "outputs": [],
   "source": []
  }
 ],
 "metadata": {
  "kernelspec": {
   "display_name": "Python 3 (ipykernel)",
   "language": "python",
   "name": "python3"
  },
  "language_info": {
   "codemirror_mode": {
    "name": "ipython",
    "version": 3
   },
   "file_extension": ".py",
   "mimetype": "text/x-python",
   "name": "python",
   "nbconvert_exporter": "python",
   "pygments_lexer": "ipython3",
   "version": "3.8.13"
  },
  "varInspector": {
   "cols": {
    "lenName": 16,
    "lenType": 16,
    "lenVar": 40
   },
   "kernels_config": {
    "python": {
     "delete_cmd_postfix": "",
     "delete_cmd_prefix": "del ",
     "library": "var_list.py",
     "varRefreshCmd": "print(var_dic_list())"
    },
    "r": {
     "delete_cmd_postfix": ") ",
     "delete_cmd_prefix": "rm(",
     "library": "var_list.r",
     "varRefreshCmd": "cat(var_dic_list()) "
    }
   },
   "types_to_exclude": [
    "module",
    "function",
    "builtin_function_or_method",
    "instance",
    "_Feature"
   ],
   "window_display": false
  }
 },
 "nbformat": 4,
 "nbformat_minor": 2
}
